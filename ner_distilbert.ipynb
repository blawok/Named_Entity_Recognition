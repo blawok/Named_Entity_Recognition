{
  "nbformat": 4,
  "nbformat_minor": 0,
  "metadata": {
    "colab": {
      "name": "ner_distilbert.ipynb",
      "provenance": [],
      "collapsed_sections": [],
      "mount_file_id": "1BOjVAi0en3iHpvDlw18vqCZEnk7SDXuZ",
      "authorship_tag": "ABX9TyMU9cGBvU49z6dO9/QkYfVF",
      "include_colab_link": true
    },
    "kernelspec": {
      "name": "python3",
      "display_name": "Python 3"
    },
    "accelerator": "GPU",
    "widgets": {
      "application/vnd.jupyter.widget-state+json": {
        "bf987a6d06864b31a5855f759f1021c6": {
          "model_module": "@jupyter-widgets/controls",
          "model_name": "HBoxModel",
          "state": {
            "_view_name": "HBoxView",
            "_dom_classes": [],
            "_model_name": "HBoxModel",
            "_view_module": "@jupyter-widgets/controls",
            "_model_module_version": "1.5.0",
            "_view_count": null,
            "_view_module_version": "1.5.0",
            "box_style": "",
            "layout": "IPY_MODEL_01b5629b82ce4464ba12df09a4e02ffc",
            "_model_module": "@jupyter-widgets/controls",
            "children": [
              "IPY_MODEL_e26235a4b3854866ab957f85bb455540",
              "IPY_MODEL_89677caf410f46f59681e73315a0947f"
            ]
          }
        },
        "01b5629b82ce4464ba12df09a4e02ffc": {
          "model_module": "@jupyter-widgets/base",
          "model_name": "LayoutModel",
          "state": {
            "_view_name": "LayoutView",
            "grid_template_rows": null,
            "right": null,
            "justify_content": null,
            "_view_module": "@jupyter-widgets/base",
            "overflow": null,
            "_model_module_version": "1.2.0",
            "_view_count": null,
            "flex_flow": null,
            "width": null,
            "min_width": null,
            "border": null,
            "align_items": null,
            "bottom": null,
            "_model_module": "@jupyter-widgets/base",
            "top": null,
            "grid_column": null,
            "overflow_y": null,
            "overflow_x": null,
            "grid_auto_flow": null,
            "grid_area": null,
            "grid_template_columns": null,
            "flex": null,
            "_model_name": "LayoutModel",
            "justify_items": null,
            "grid_row": null,
            "max_height": null,
            "align_content": null,
            "visibility": null,
            "align_self": null,
            "height": null,
            "min_height": null,
            "padding": null,
            "grid_auto_rows": null,
            "grid_gap": null,
            "max_width": null,
            "order": null,
            "_view_module_version": "1.2.0",
            "grid_template_areas": null,
            "object_position": null,
            "object_fit": null,
            "grid_auto_columns": null,
            "margin": null,
            "display": null,
            "left": null
          }
        },
        "e26235a4b3854866ab957f85bb455540": {
          "model_module": "@jupyter-widgets/controls",
          "model_name": "FloatProgressModel",
          "state": {
            "_view_name": "ProgressView",
            "style": "IPY_MODEL_5e445a4b68f2480d98df8860ae8505db",
            "_dom_classes": [],
            "description": "Downloading: 100%",
            "_model_name": "FloatProgressModel",
            "bar_style": "success",
            "max": 213450,
            "_view_module": "@jupyter-widgets/controls",
            "_model_module_version": "1.5.0",
            "value": 213450,
            "_view_count": null,
            "_view_module_version": "1.5.0",
            "orientation": "horizontal",
            "min": 0,
            "description_tooltip": null,
            "_model_module": "@jupyter-widgets/controls",
            "layout": "IPY_MODEL_1b53e3cdf4d040ca8f8e85c9be404e54"
          }
        },
        "89677caf410f46f59681e73315a0947f": {
          "model_module": "@jupyter-widgets/controls",
          "model_name": "HTMLModel",
          "state": {
            "_view_name": "HTMLView",
            "style": "IPY_MODEL_50f26b2d2a4e4709a2d4d23943a0f7f9",
            "_dom_classes": [],
            "description": "",
            "_model_name": "HTMLModel",
            "placeholder": "​",
            "_view_module": "@jupyter-widgets/controls",
            "_model_module_version": "1.5.0",
            "value": " 213k/213k [00:00&lt;00:00, 738kB/s]",
            "_view_count": null,
            "_view_module_version": "1.5.0",
            "description_tooltip": null,
            "_model_module": "@jupyter-widgets/controls",
            "layout": "IPY_MODEL_4a1075a5666043adbbd5aa8e3c5c7820"
          }
        },
        "5e445a4b68f2480d98df8860ae8505db": {
          "model_module": "@jupyter-widgets/controls",
          "model_name": "ProgressStyleModel",
          "state": {
            "_view_name": "StyleView",
            "_model_name": "ProgressStyleModel",
            "description_width": "initial",
            "_view_module": "@jupyter-widgets/base",
            "_model_module_version": "1.5.0",
            "_view_count": null,
            "_view_module_version": "1.2.0",
            "bar_color": null,
            "_model_module": "@jupyter-widgets/controls"
          }
        },
        "1b53e3cdf4d040ca8f8e85c9be404e54": {
          "model_module": "@jupyter-widgets/base",
          "model_name": "LayoutModel",
          "state": {
            "_view_name": "LayoutView",
            "grid_template_rows": null,
            "right": null,
            "justify_content": null,
            "_view_module": "@jupyter-widgets/base",
            "overflow": null,
            "_model_module_version": "1.2.0",
            "_view_count": null,
            "flex_flow": null,
            "width": null,
            "min_width": null,
            "border": null,
            "align_items": null,
            "bottom": null,
            "_model_module": "@jupyter-widgets/base",
            "top": null,
            "grid_column": null,
            "overflow_y": null,
            "overflow_x": null,
            "grid_auto_flow": null,
            "grid_area": null,
            "grid_template_columns": null,
            "flex": null,
            "_model_name": "LayoutModel",
            "justify_items": null,
            "grid_row": null,
            "max_height": null,
            "align_content": null,
            "visibility": null,
            "align_self": null,
            "height": null,
            "min_height": null,
            "padding": null,
            "grid_auto_rows": null,
            "grid_gap": null,
            "max_width": null,
            "order": null,
            "_view_module_version": "1.2.0",
            "grid_template_areas": null,
            "object_position": null,
            "object_fit": null,
            "grid_auto_columns": null,
            "margin": null,
            "display": null,
            "left": null
          }
        },
        "50f26b2d2a4e4709a2d4d23943a0f7f9": {
          "model_module": "@jupyter-widgets/controls",
          "model_name": "DescriptionStyleModel",
          "state": {
            "_view_name": "StyleView",
            "_model_name": "DescriptionStyleModel",
            "description_width": "",
            "_view_module": "@jupyter-widgets/base",
            "_model_module_version": "1.5.0",
            "_view_count": null,
            "_view_module_version": "1.2.0",
            "_model_module": "@jupyter-widgets/controls"
          }
        },
        "4a1075a5666043adbbd5aa8e3c5c7820": {
          "model_module": "@jupyter-widgets/base",
          "model_name": "LayoutModel",
          "state": {
            "_view_name": "LayoutView",
            "grid_template_rows": null,
            "right": null,
            "justify_content": null,
            "_view_module": "@jupyter-widgets/base",
            "overflow": null,
            "_model_module_version": "1.2.0",
            "_view_count": null,
            "flex_flow": null,
            "width": null,
            "min_width": null,
            "border": null,
            "align_items": null,
            "bottom": null,
            "_model_module": "@jupyter-widgets/base",
            "top": null,
            "grid_column": null,
            "overflow_y": null,
            "overflow_x": null,
            "grid_auto_flow": null,
            "grid_area": null,
            "grid_template_columns": null,
            "flex": null,
            "_model_name": "LayoutModel",
            "justify_items": null,
            "grid_row": null,
            "max_height": null,
            "align_content": null,
            "visibility": null,
            "align_self": null,
            "height": null,
            "min_height": null,
            "padding": null,
            "grid_auto_rows": null,
            "grid_gap": null,
            "max_width": null,
            "order": null,
            "_view_module_version": "1.2.0",
            "grid_template_areas": null,
            "object_position": null,
            "object_fit": null,
            "grid_auto_columns": null,
            "margin": null,
            "display": null,
            "left": null
          }
        }
      }
    }
  },
  "cells": [
    {
      "cell_type": "markdown",
      "metadata": {
        "id": "view-in-github",
        "colab_type": "text"
      },
      "source": [
        "<a href=\"https://colab.research.google.com/github/blawok/named-entity-recognition/blob/master/ner_distilbert.ipynb\" target=\"_parent\"><img src=\"https://colab.research.google.com/assets/colab-badge.svg\" alt=\"Open In Colab\"/></a>"
      ]
    },
    {
      "cell_type": "code",
      "metadata": {
        "id": "NhJE7FYRrcnK",
        "colab_type": "code",
        "colab": {
          "base_uri": "https://localhost:8080/",
          "height": 605
        },
        "outputId": "f764cc60-7fd4-4d01-ce66-fed6cb1ac2a1"
      },
      "source": [
        "!pip install transformers"
      ],
      "execution_count": 1,
      "outputs": [
        {
          "output_type": "stream",
          "text": [
            "Collecting transformers\n",
            "\u001b[?25l  Downloading https://files.pythonhosted.org/packages/12/b5/ac41e3e95205ebf53439e4dd087c58e9fd371fd8e3724f2b9b4cdb8282e5/transformers-2.10.0-py3-none-any.whl (660kB)\n",
            "\r\u001b[K     |▌                               | 10kB 29.2MB/s eta 0:00:01\r\u001b[K     |█                               | 20kB 5.6MB/s eta 0:00:01\r\u001b[K     |█▌                              | 30kB 6.4MB/s eta 0:00:01\r\u001b[K     |██                              | 40kB 7.5MB/s eta 0:00:01\r\u001b[K     |██▌                             | 51kB 6.6MB/s eta 0:00:01\r\u001b[K     |███                             | 61kB 7.6MB/s eta 0:00:01\r\u001b[K     |███▌                            | 71kB 7.5MB/s eta 0:00:01\r\u001b[K     |████                            | 81kB 8.4MB/s eta 0:00:01\r\u001b[K     |████▌                           | 92kB 7.7MB/s eta 0:00:01\r\u001b[K     |█████                           | 102kB 7.6MB/s eta 0:00:01\r\u001b[K     |█████▌                          | 112kB 7.6MB/s eta 0:00:01\r\u001b[K     |██████                          | 122kB 7.6MB/s eta 0:00:01\r\u001b[K     |██████▌                         | 133kB 7.6MB/s eta 0:00:01\r\u001b[K     |███████                         | 143kB 7.6MB/s eta 0:00:01\r\u001b[K     |███████▌                        | 153kB 7.6MB/s eta 0:00:01\r\u001b[K     |████████                        | 163kB 7.6MB/s eta 0:00:01\r\u001b[K     |████████▍                       | 174kB 7.6MB/s eta 0:00:01\r\u001b[K     |█████████                       | 184kB 7.6MB/s eta 0:00:01\r\u001b[K     |█████████▍                      | 194kB 7.6MB/s eta 0:00:01\r\u001b[K     |██████████                      | 204kB 7.6MB/s eta 0:00:01\r\u001b[K     |██████████▍                     | 215kB 7.6MB/s eta 0:00:01\r\u001b[K     |███████████                     | 225kB 7.6MB/s eta 0:00:01\r\u001b[K     |███████████▍                    | 235kB 7.6MB/s eta 0:00:01\r\u001b[K     |████████████                    | 245kB 7.6MB/s eta 0:00:01\r\u001b[K     |████████████▍                   | 256kB 7.6MB/s eta 0:00:01\r\u001b[K     |█████████████                   | 266kB 7.6MB/s eta 0:00:01\r\u001b[K     |█████████████▍                  | 276kB 7.6MB/s eta 0:00:01\r\u001b[K     |██████████████                  | 286kB 7.6MB/s eta 0:00:01\r\u001b[K     |██████████████▍                 | 296kB 7.6MB/s eta 0:00:01\r\u001b[K     |███████████████                 | 307kB 7.6MB/s eta 0:00:01\r\u001b[K     |███████████████▍                | 317kB 7.6MB/s eta 0:00:01\r\u001b[K     |███████████████▉                | 327kB 7.6MB/s eta 0:00:01\r\u001b[K     |████████████████▍               | 337kB 7.6MB/s eta 0:00:01\r\u001b[K     |████████████████▉               | 348kB 7.6MB/s eta 0:00:01\r\u001b[K     |█████████████████▍              | 358kB 7.6MB/s eta 0:00:01\r\u001b[K     |█████████████████▉              | 368kB 7.6MB/s eta 0:00:01\r\u001b[K     |██████████████████▍             | 378kB 7.6MB/s eta 0:00:01\r\u001b[K     |██████████████████▉             | 389kB 7.6MB/s eta 0:00:01\r\u001b[K     |███████████████████▍            | 399kB 7.6MB/s eta 0:00:01\r\u001b[K     |███████████████████▉            | 409kB 7.6MB/s eta 0:00:01\r\u001b[K     |████████████████████▍           | 419kB 7.6MB/s eta 0:00:01\r\u001b[K     |████████████████████▉           | 430kB 7.6MB/s eta 0:00:01\r\u001b[K     |█████████████████████▍          | 440kB 7.6MB/s eta 0:00:01\r\u001b[K     |█████████████████████▉          | 450kB 7.6MB/s eta 0:00:01\r\u001b[K     |██████████████████████▍         | 460kB 7.6MB/s eta 0:00:01\r\u001b[K     |██████████████████████▉         | 471kB 7.6MB/s eta 0:00:01\r\u001b[K     |███████████████████████▎        | 481kB 7.6MB/s eta 0:00:01\r\u001b[K     |███████████████████████▉        | 491kB 7.6MB/s eta 0:00:01\r\u001b[K     |████████████████████████▎       | 501kB 7.6MB/s eta 0:00:01\r\u001b[K     |████████████████████████▉       | 512kB 7.6MB/s eta 0:00:01\r\u001b[K     |█████████████████████████▎      | 522kB 7.6MB/s eta 0:00:01\r\u001b[K     |█████████████████████████▉      | 532kB 7.6MB/s eta 0:00:01\r\u001b[K     |██████████████████████████▎     | 542kB 7.6MB/s eta 0:00:01\r\u001b[K     |██████████████████████████▉     | 552kB 7.6MB/s eta 0:00:01\r\u001b[K     |███████████████████████████▎    | 563kB 7.6MB/s eta 0:00:01\r\u001b[K     |███████████████████████████▉    | 573kB 7.6MB/s eta 0:00:01\r\u001b[K     |████████████████████████████▎   | 583kB 7.6MB/s eta 0:00:01\r\u001b[K     |████████████████████████████▉   | 593kB 7.6MB/s eta 0:00:01\r\u001b[K     |█████████████████████████████▎  | 604kB 7.6MB/s eta 0:00:01\r\u001b[K     |█████████████████████████████▉  | 614kB 7.6MB/s eta 0:00:01\r\u001b[K     |██████████████████████████████▎ | 624kB 7.6MB/s eta 0:00:01\r\u001b[K     |██████████████████████████████▊ | 634kB 7.6MB/s eta 0:00:01\r\u001b[K     |███████████████████████████████▎| 645kB 7.6MB/s eta 0:00:01\r\u001b[K     |███████████████████████████████▊| 655kB 7.6MB/s eta 0:00:01\r\u001b[K     |████████████████████████████████| 665kB 7.6MB/s \n",
            "\u001b[?25hRequirement already satisfied: tqdm>=4.27 in /usr/local/lib/python3.6/dist-packages (from transformers) (4.41.1)\n",
            "Requirement already satisfied: filelock in /usr/local/lib/python3.6/dist-packages (from transformers) (3.0.12)\n",
            "Requirement already satisfied: requests in /usr/local/lib/python3.6/dist-packages (from transformers) (2.23.0)\n",
            "Requirement already satisfied: dataclasses; python_version < \"3.7\" in /usr/local/lib/python3.6/dist-packages (from transformers) (0.7)\n",
            "Collecting sentencepiece\n",
            "\u001b[?25l  Downloading https://files.pythonhosted.org/packages/d4/a4/d0a884c4300004a78cca907a6ff9a5e9fe4f090f5d95ab341c53d28cbc58/sentencepiece-0.1.91-cp36-cp36m-manylinux1_x86_64.whl (1.1MB)\n",
            "\r\u001b[K     |▎                               | 10kB 26.4MB/s eta 0:00:01\r\u001b[K     |▋                               | 20kB 34.1MB/s eta 0:00:01\r\u001b[K     |█                               | 30kB 40.4MB/s eta 0:00:01\r\u001b[K     |█▏                              | 40kB 33.9MB/s eta 0:00:01\r\u001b[K     |█▌                              | 51kB 23.7MB/s eta 0:00:01\r\u001b[K     |█▉                              | 61kB 26.7MB/s eta 0:00:01\r\u001b[K     |██▏                             | 71kB 19.9MB/s eta 0:00:01\r\u001b[K     |██▍                             | 81kB 21.0MB/s eta 0:00:01\r\u001b[K     |██▊                             | 92kB 20.4MB/s eta 0:00:01\r\u001b[K     |███                             | 102kB 21.8MB/s eta 0:00:01\r\u001b[K     |███▍                            | 112kB 21.8MB/s eta 0:00:01\r\u001b[K     |███▋                            | 122kB 21.8MB/s eta 0:00:01\r\u001b[K     |████                            | 133kB 21.8MB/s eta 0:00:01\r\u001b[K     |████▎                           | 143kB 21.8MB/s eta 0:00:01\r\u001b[K     |████▋                           | 153kB 21.8MB/s eta 0:00:01\r\u001b[K     |████▉                           | 163kB 21.8MB/s eta 0:00:01\r\u001b[K     |█████▏                          | 174kB 21.8MB/s eta 0:00:01\r\u001b[K     |█████▌                          | 184kB 21.8MB/s eta 0:00:01\r\u001b[K     |█████▉                          | 194kB 21.8MB/s eta 0:00:01\r\u001b[K     |██████                          | 204kB 21.8MB/s eta 0:00:01\r\u001b[K     |██████▍                         | 215kB 21.8MB/s eta 0:00:01\r\u001b[K     |██████▊                         | 225kB 21.8MB/s eta 0:00:01\r\u001b[K     |███████                         | 235kB 21.8MB/s eta 0:00:01\r\u001b[K     |███████▎                        | 245kB 21.8MB/s eta 0:00:01\r\u001b[K     |███████▋                        | 256kB 21.8MB/s eta 0:00:01\r\u001b[K     |████████                        | 266kB 21.8MB/s eta 0:00:01\r\u001b[K     |████████▎                       | 276kB 21.8MB/s eta 0:00:01\r\u001b[K     |████████▌                       | 286kB 21.8MB/s eta 0:00:01\r\u001b[K     |████████▉                       | 296kB 21.8MB/s eta 0:00:01\r\u001b[K     |█████████▏                      | 307kB 21.8MB/s eta 0:00:01\r\u001b[K     |█████████▌                      | 317kB 21.8MB/s eta 0:00:01\r\u001b[K     |█████████▊                      | 327kB 21.8MB/s eta 0:00:01\r\u001b[K     |██████████                      | 337kB 21.8MB/s eta 0:00:01\r\u001b[K     |██████████▍                     | 348kB 21.8MB/s eta 0:00:01\r\u001b[K     |██████████▊                     | 358kB 21.8MB/s eta 0:00:01\r\u001b[K     |███████████                     | 368kB 21.8MB/s eta 0:00:01\r\u001b[K     |███████████▎                    | 378kB 21.8MB/s eta 0:00:01\r\u001b[K     |███████████▋                    | 389kB 21.8MB/s eta 0:00:01\r\u001b[K     |████████████                    | 399kB 21.8MB/s eta 0:00:01\r\u001b[K     |████████████▏                   | 409kB 21.8MB/s eta 0:00:01\r\u001b[K     |████████████▌                   | 419kB 21.8MB/s eta 0:00:01\r\u001b[K     |████████████▉                   | 430kB 21.8MB/s eta 0:00:01\r\u001b[K     |█████████████▏                  | 440kB 21.8MB/s eta 0:00:01\r\u001b[K     |█████████████▍                  | 450kB 21.8MB/s eta 0:00:01\r\u001b[K     |█████████████▊                  | 460kB 21.8MB/s eta 0:00:01\r\u001b[K     |██████████████                  | 471kB 21.8MB/s eta 0:00:01\r\u001b[K     |██████████████▍                 | 481kB 21.8MB/s eta 0:00:01\r\u001b[K     |██████████████▋                 | 491kB 21.8MB/s eta 0:00:01\r\u001b[K     |███████████████                 | 501kB 21.8MB/s eta 0:00:01\r\u001b[K     |███████████████▎                | 512kB 21.8MB/s eta 0:00:01\r\u001b[K     |███████████████▋                | 522kB 21.8MB/s eta 0:00:01\r\u001b[K     |███████████████▉                | 532kB 21.8MB/s eta 0:00:01\r\u001b[K     |████████████████▏               | 542kB 21.8MB/s eta 0:00:01\r\u001b[K     |████████████████▌               | 552kB 21.8MB/s eta 0:00:01\r\u001b[K     |████████████████▉               | 563kB 21.8MB/s eta 0:00:01\r\u001b[K     |█████████████████               | 573kB 21.8MB/s eta 0:00:01\r\u001b[K     |█████████████████▍              | 583kB 21.8MB/s eta 0:00:01\r\u001b[K     |█████████████████▊              | 593kB 21.8MB/s eta 0:00:01\r\u001b[K     |██████████████████              | 604kB 21.8MB/s eta 0:00:01\r\u001b[K     |██████████████████▎             | 614kB 21.8MB/s eta 0:00:01\r\u001b[K     |██████████████████▋             | 624kB 21.8MB/s eta 0:00:01\r\u001b[K     |███████████████████             | 634kB 21.8MB/s eta 0:00:01\r\u001b[K     |███████████████████▎            | 645kB 21.8MB/s eta 0:00:01\r\u001b[K     |███████████████████▌            | 655kB 21.8MB/s eta 0:00:01\r\u001b[K     |███████████████████▉            | 665kB 21.8MB/s eta 0:00:01\r\u001b[K     |████████████████████▏           | 675kB 21.8MB/s eta 0:00:01\r\u001b[K     |████████████████████▌           | 686kB 21.8MB/s eta 0:00:01\r\u001b[K     |████████████████████▊           | 696kB 21.8MB/s eta 0:00:01\r\u001b[K     |█████████████████████           | 706kB 21.8MB/s eta 0:00:01\r\u001b[K     |█████████████████████▍          | 716kB 21.8MB/s eta 0:00:01\r\u001b[K     |█████████████████████▋          | 727kB 21.8MB/s eta 0:00:01\r\u001b[K     |██████████████████████          | 737kB 21.8MB/s eta 0:00:01\r\u001b[K     |██████████████████████▎         | 747kB 21.8MB/s eta 0:00:01\r\u001b[K     |██████████████████████▋         | 757kB 21.8MB/s eta 0:00:01\r\u001b[K     |██████████████████████▉         | 768kB 21.8MB/s eta 0:00:01\r\u001b[K     |███████████████████████▏        | 778kB 21.8MB/s eta 0:00:01\r\u001b[K     |███████████████████████▌        | 788kB 21.8MB/s eta 0:00:01\r\u001b[K     |███████████████████████▉        | 798kB 21.8MB/s eta 0:00:01\r\u001b[K     |████████████████████████        | 808kB 21.8MB/s eta 0:00:01\r\u001b[K     |████████████████████████▍       | 819kB 21.8MB/s eta 0:00:01\r\u001b[K     |████████████████████████▊       | 829kB 21.8MB/s eta 0:00:01\r\u001b[K     |█████████████████████████       | 839kB 21.8MB/s eta 0:00:01\r\u001b[K     |█████████████████████████▎      | 849kB 21.8MB/s eta 0:00:01\r\u001b[K     |█████████████████████████▋      | 860kB 21.8MB/s eta 0:00:01\r\u001b[K     |██████████████████████████      | 870kB 21.8MB/s eta 0:00:01\r\u001b[K     |██████████████████████████▎     | 880kB 21.8MB/s eta 0:00:01\r\u001b[K     |██████████████████████████▌     | 890kB 21.8MB/s eta 0:00:01\r\u001b[K     |██████████████████████████▉     | 901kB 21.8MB/s eta 0:00:01\r\u001b[K     |███████████████████████████▏    | 911kB 21.8MB/s eta 0:00:01\r\u001b[K     |███████████████████████████▌    | 921kB 21.8MB/s eta 0:00:01\r\u001b[K     |███████████████████████████▊    | 931kB 21.8MB/s eta 0:00:01\r\u001b[K     |████████████████████████████    | 942kB 21.8MB/s eta 0:00:01\r\u001b[K     |████████████████████████████▍   | 952kB 21.8MB/s eta 0:00:01\r\u001b[K     |████████████████████████████▊   | 962kB 21.8MB/s eta 0:00:01\r\u001b[K     |█████████████████████████████   | 972kB 21.8MB/s eta 0:00:01\r\u001b[K     |█████████████████████████████▎  | 983kB 21.8MB/s eta 0:00:01\r\u001b[K     |█████████████████████████████▋  | 993kB 21.8MB/s eta 0:00:01\r\u001b[K     |██████████████████████████████  | 1.0MB 21.8MB/s eta 0:00:01\r\u001b[K     |██████████████████████████████▏ | 1.0MB 21.8MB/s eta 0:00:01\r\u001b[K     |██████████████████████████████▌ | 1.0MB 21.8MB/s eta 0:00:01\r\u001b[K     |██████████████████████████████▉ | 1.0MB 21.8MB/s eta 0:00:01\r\u001b[K     |███████████████████████████████▏| 1.0MB 21.8MB/s eta 0:00:01\r\u001b[K     |███████████████████████████████▍| 1.1MB 21.8MB/s eta 0:00:01\r\u001b[K     |███████████████████████████████▊| 1.1MB 21.8MB/s eta 0:00:01\r\u001b[K     |████████████████████████████████| 1.1MB 66kB/s \n",
            "\u001b[?25hRequirement already satisfied: regex!=2019.12.17 in /usr/local/lib/python3.6/dist-packages (from transformers) (2019.12.20)\n",
            "Collecting sacremoses\n",
            "\u001b[?25l  Downloading https://files.pythonhosted.org/packages/7d/34/09d19aff26edcc8eb2a01bed8e98f13a1537005d31e95233fd48216eed10/sacremoses-0.0.43.tar.gz (883kB)\n",
            "\u001b[K     |████████████████████████████████| 890kB 43.8MB/s \n",
            "\u001b[?25hCollecting tokenizers==0.7.0\n",
            "\u001b[?25l  Downloading https://files.pythonhosted.org/packages/14/e5/a26eb4716523808bb0a799fcfdceb6ebf77a18169d9591b2f46a9adb87d9/tokenizers-0.7.0-cp36-cp36m-manylinux1_x86_64.whl (3.8MB)\n",
            "\u001b[K     |████████████████████████████████| 3.8MB 54.9MB/s \n",
            "\u001b[?25hRequirement already satisfied: numpy in /usr/local/lib/python3.6/dist-packages (from transformers) (1.18.4)\n",
            "Requirement already satisfied: chardet<4,>=3.0.2 in /usr/local/lib/python3.6/dist-packages (from requests->transformers) (3.0.4)\n",
            "Requirement already satisfied: certifi>=2017.4.17 in /usr/local/lib/python3.6/dist-packages (from requests->transformers) (2020.4.5.1)\n",
            "Requirement already satisfied: urllib3!=1.25.0,!=1.25.1,<1.26,>=1.21.1 in /usr/local/lib/python3.6/dist-packages (from requests->transformers) (1.24.3)\n",
            "Requirement already satisfied: idna<3,>=2.5 in /usr/local/lib/python3.6/dist-packages (from requests->transformers) (2.9)\n",
            "Requirement already satisfied: six in /usr/local/lib/python3.6/dist-packages (from sacremoses->transformers) (1.12.0)\n",
            "Requirement already satisfied: click in /usr/local/lib/python3.6/dist-packages (from sacremoses->transformers) (7.1.2)\n",
            "Requirement already satisfied: joblib in /usr/local/lib/python3.6/dist-packages (from sacremoses->transformers) (0.15.1)\n",
            "Building wheels for collected packages: sacremoses\n",
            "  Building wheel for sacremoses (setup.py) ... \u001b[?25l\u001b[?25hdone\n",
            "  Created wheel for sacremoses: filename=sacremoses-0.0.43-cp36-none-any.whl size=893260 sha256=d0c3af4bf408712c823c1a17757765d2f623ef2e4b035de0fa6807a146a65d17\n",
            "  Stored in directory: /root/.cache/pip/wheels/29/3c/fd/7ce5c3f0666dab31a50123635e6fb5e19ceb42ce38d4e58f45\n",
            "Successfully built sacremoses\n",
            "Installing collected packages: sentencepiece, sacremoses, tokenizers, transformers\n",
            "Successfully installed sacremoses-0.0.43 sentencepiece-0.1.91 tokenizers-0.7.0 transformers-2.10.0\n"
          ],
          "name": "stdout"
        }
      ]
    },
    {
      "cell_type": "code",
      "metadata": {
        "id": "nPFmTJH7rqNQ",
        "colab_type": "code",
        "colab": {
          "base_uri": "https://localhost:8080/",
          "height": 381
        },
        "outputId": "60330d5a-d256-45b5-903e-6be0aff441de"
      },
      "source": [
        "import pandas as pd\n",
        "import numpy as np\n",
        "import tensorflow as tf\n",
        "\n",
        "from transformers import *\n",
        "from keras.preprocessing.sequence import pad_sequences\n",
        "from sklearn.model_selection import train_test_split\n",
        "from tensorflow.keras import Model, Sequential\n",
        "from tensorflow.keras.layers import (\n",
        "    TimeDistributed,\n",
        "    Dense,\n",
        "    Input,\n",
        "    GlobalAveragePooling1D,\n",
        "    Dropout\n",
        ")\n",
        "\n",
        "\n",
        "data = pd.read_csv(\"/content/drive/My Drive/Colab Notebooks/NER/ner_dataset.csv\", encoding=\"latin1\").fillna(method=\"ffill\")\n",
        "data.tail(10)"
      ],
      "execution_count": 2,
      "outputs": [
        {
          "output_type": "stream",
          "text": [
            "Using TensorFlow backend.\n"
          ],
          "name": "stderr"
        },
        {
          "output_type": "execute_result",
          "data": {
            "text/html": [
              "<div>\n",
              "<style scoped>\n",
              "    .dataframe tbody tr th:only-of-type {\n",
              "        vertical-align: middle;\n",
              "    }\n",
              "\n",
              "    .dataframe tbody tr th {\n",
              "        vertical-align: top;\n",
              "    }\n",
              "\n",
              "    .dataframe thead th {\n",
              "        text-align: right;\n",
              "    }\n",
              "</style>\n",
              "<table border=\"1\" class=\"dataframe\">\n",
              "  <thead>\n",
              "    <tr style=\"text-align: right;\">\n",
              "      <th></th>\n",
              "      <th>Sentence #</th>\n",
              "      <th>Word</th>\n",
              "      <th>POS</th>\n",
              "      <th>Tag</th>\n",
              "    </tr>\n",
              "  </thead>\n",
              "  <tbody>\n",
              "    <tr>\n",
              "      <th>1048565</th>\n",
              "      <td>Sentence: 47958</td>\n",
              "      <td>impact</td>\n",
              "      <td>NN</td>\n",
              "      <td>O</td>\n",
              "    </tr>\n",
              "    <tr>\n",
              "      <th>1048566</th>\n",
              "      <td>Sentence: 47958</td>\n",
              "      <td>.</td>\n",
              "      <td>.</td>\n",
              "      <td>O</td>\n",
              "    </tr>\n",
              "    <tr>\n",
              "      <th>1048567</th>\n",
              "      <td>Sentence: 47959</td>\n",
              "      <td>Indian</td>\n",
              "      <td>JJ</td>\n",
              "      <td>B-gpe</td>\n",
              "    </tr>\n",
              "    <tr>\n",
              "      <th>1048568</th>\n",
              "      <td>Sentence: 47959</td>\n",
              "      <td>forces</td>\n",
              "      <td>NNS</td>\n",
              "      <td>O</td>\n",
              "    </tr>\n",
              "    <tr>\n",
              "      <th>1048569</th>\n",
              "      <td>Sentence: 47959</td>\n",
              "      <td>said</td>\n",
              "      <td>VBD</td>\n",
              "      <td>O</td>\n",
              "    </tr>\n",
              "    <tr>\n",
              "      <th>1048570</th>\n",
              "      <td>Sentence: 47959</td>\n",
              "      <td>they</td>\n",
              "      <td>PRP</td>\n",
              "      <td>O</td>\n",
              "    </tr>\n",
              "    <tr>\n",
              "      <th>1048571</th>\n",
              "      <td>Sentence: 47959</td>\n",
              "      <td>responded</td>\n",
              "      <td>VBD</td>\n",
              "      <td>O</td>\n",
              "    </tr>\n",
              "    <tr>\n",
              "      <th>1048572</th>\n",
              "      <td>Sentence: 47959</td>\n",
              "      <td>to</td>\n",
              "      <td>TO</td>\n",
              "      <td>O</td>\n",
              "    </tr>\n",
              "    <tr>\n",
              "      <th>1048573</th>\n",
              "      <td>Sentence: 47959</td>\n",
              "      <td>the</td>\n",
              "      <td>DT</td>\n",
              "      <td>O</td>\n",
              "    </tr>\n",
              "    <tr>\n",
              "      <th>1048574</th>\n",
              "      <td>Sentence: 47959</td>\n",
              "      <td>attack</td>\n",
              "      <td>NN</td>\n",
              "      <td>O</td>\n",
              "    </tr>\n",
              "  </tbody>\n",
              "</table>\n",
              "</div>"
            ],
            "text/plain": [
              "              Sentence #       Word  POS    Tag\n",
              "1048565  Sentence: 47958     impact   NN      O\n",
              "1048566  Sentence: 47958          .    .      O\n",
              "1048567  Sentence: 47959     Indian   JJ  B-gpe\n",
              "1048568  Sentence: 47959     forces  NNS      O\n",
              "1048569  Sentence: 47959       said  VBD      O\n",
              "1048570  Sentence: 47959       they  PRP      O\n",
              "1048571  Sentence: 47959  responded  VBD      O\n",
              "1048572  Sentence: 47959         to   TO      O\n",
              "1048573  Sentence: 47959        the   DT      O\n",
              "1048574  Sentence: 47959     attack   NN      O"
            ]
          },
          "metadata": {
            "tags": []
          },
          "execution_count": 2
        }
      ]
    },
    {
      "cell_type": "markdown",
      "metadata": {
        "id": "4Ax_aVOrHtfc",
        "colab_type": "text"
      },
      "source": [
        "Prepare data for preprocessing"
      ]
    },
    {
      "cell_type": "code",
      "metadata": {
        "id": "n5tZldDDrqTT",
        "colab_type": "code",
        "colab": {
          "base_uri": "https://localhost:8080/",
          "height": 110
        },
        "outputId": "3dd485b2-612a-49e3-a95f-3d4da6582f32"
      },
      "source": [
        "class SentenceGetter(object):\n",
        "\n",
        "    def __init__(self, data):\n",
        "        self.n_sent = 1\n",
        "        self.data = data\n",
        "        self.empty = False\n",
        "        agg_func = lambda s: [(w, p, t) for w, p, t in zip(s[\"Word\"].values.tolist(),\n",
        "                                                           s[\"POS\"].values.tolist(),\n",
        "                                                           s[\"Tag\"].values.tolist())]\n",
        "        self.grouped = self.data.groupby(\"Sentence #\").apply(agg_func)\n",
        "        self.sentences = [s for s in self.grouped]\n",
        "\n",
        "    def get_next(self):\n",
        "        try:\n",
        "            s = self.grouped[\"Sentence: {}\".format(self.n_sent)]\n",
        "            self.n_sent += 1\n",
        "            return s\n",
        "        except:\n",
        "            return None\n",
        "\n",
        "getter = SentenceGetter(data)\n",
        "sentences = [[word[0] for word in sentence] for sentence in getter.sentences]\n",
        "labels = [[s[2] for s in sentence] for sentence in getter.sentences]\n",
        "\n",
        "\n",
        "tag_values = list(set(data[\"Tag\"].values))\n",
        "tag_values.append(\"PAD\")\n",
        "tag2idx = {t: i for i, t in enumerate(tag_values)}\n",
        "\n",
        "print(sentences[0])\n",
        "print(labels[0])\n",
        "print(len(sentences))\n",
        "print(len(labels))"
      ],
      "execution_count": 3,
      "outputs": [
        {
          "output_type": "stream",
          "text": [
            "['Thousands', 'of', 'demonstrators', 'have', 'marched', 'through', 'London', 'to', 'protest', 'the', 'war', 'in', 'Iraq', 'and', 'demand', 'the', 'withdrawal', 'of', 'British', 'troops', 'from', 'that', 'country', '.']\n",
            "['O', 'O', 'O', 'O', 'O', 'O', 'B-geo', 'O', 'O', 'O', 'O', 'O', 'B-geo', 'O', 'O', 'O', 'O', 'O', 'B-gpe', 'O', 'O', 'O', 'O', 'O']\n",
            "47959\n",
            "47959\n"
          ],
          "name": "stdout"
        }
      ]
    },
    {
      "cell_type": "markdown",
      "metadata": {
        "id": "2PflriHzuhOT",
        "colab_type": "text"
      },
      "source": [
        "Tokenize for DistilBERT"
      ]
    },
    {
      "cell_type": "code",
      "metadata": {
        "id": "pVGqcWjq2PGG",
        "colab_type": "code",
        "colab": {
          "base_uri": "https://localhost:8080/",
          "height": 233,
          "referenced_widgets": [
            "bf987a6d06864b31a5855f759f1021c6",
            "01b5629b82ce4464ba12df09a4e02ffc",
            "e26235a4b3854866ab957f85bb455540",
            "89677caf410f46f59681e73315a0947f",
            "5e445a4b68f2480d98df8860ae8505db",
            "1b53e3cdf4d040ca8f8e85c9be404e54",
            "50f26b2d2a4e4709a2d4d23943a0f7f9",
            "4a1075a5666043adbbd5aa8e3c5c7820"
          ]
        },
        "outputId": "d00f32a3-294c-46ad-fb7b-c9ce476f1700"
      },
      "source": [
        "MAX_LEN = 50\n",
        "tokenizer = DistilBertTokenizer.from_pretrained('distilbert-base-cased')\n",
        "\n",
        "def tokenize_and_preserve_labels(sentence, text_labels):\n",
        "    tokenized_sentence = []\n",
        "    labels = []\n",
        "\n",
        "    for word, label in zip(sentence, text_labels):\n",
        "\n",
        "        # Tokenize the word and count # of subwords the word is broken into\n",
        "        tokenized_word = tokenizer.tokenize(word)\n",
        "        n_subwords = len(tokenized_word)\n",
        "\n",
        "        # Add the tokenized word to the final tokenized word list\n",
        "        tokenized_sentence.extend(tokenized_word)\n",
        "\n",
        "        # Add the same label to the new list of labels `n_subwords` times\n",
        "        labels.extend([label] * n_subwords)\n",
        "\n",
        "    return tokenized_sentence, labels\n",
        "\n",
        "tokenized_texts_and_labels = [\n",
        "    tokenize_and_preserve_labels(sent, labs)\n",
        "    for sent, labs in zip(sentences, labels)\n",
        "]\n",
        "\n",
        "tokenized_texts = [token_label_pair[0] for token_label_pair in tokenized_texts_and_labels]\n",
        "labels = [token_label_pair[1] for token_label_pair in tokenized_texts_and_labels]\n",
        "\n",
        "input_ids = pad_sequences([tokenizer.convert_tokens_to_ids(txt) for txt in tokenized_texts],\n",
        "                          maxlen=MAX_LEN, dtype=\"long\", value=0.0,\n",
        "                          truncating=\"post\", padding=\"post\")\n",
        "\n",
        "tags = pad_sequences([[tag2idx.get(l) for l in lab] for lab in labels],\n",
        "                     maxlen=MAX_LEN, value=tag2idx[\"PAD\"], padding=\"post\",\n",
        "                     dtype=\"long\", truncating=\"post\")\n",
        "\n",
        "attention_masks = [[float(i != 0.0) for i in ii] for ii in input_ids]\n",
        "\n",
        "tr_inputs, val_inputs, tr_tags, val_tags = train_test_split(input_ids, tags,\n",
        "                                                            random_state=2018, test_size=0.1)\n",
        "tr_masks, val_masks, _, _ = train_test_split(attention_masks, input_ids,\n",
        "                                             random_state=2018, test_size=0.1)\n",
        "\n",
        "print(tr_inputs[0])\n",
        "print(tr_tags[0])\n",
        "print(len(set(tag2idx)))"
      ],
      "execution_count": 4,
      "outputs": [
        {
          "output_type": "display_data",
          "data": {
            "application/vnd.jupyter.widget-view+json": {
              "model_id": "bf987a6d06864b31a5855f759f1021c6",
              "version_minor": 0,
              "version_major": 2
            },
            "text/plain": [
              "HBox(children=(FloatProgress(value=0.0, description='Downloading', max=213450.0, style=ProgressStyle(descripti…"
            ]
          },
          "metadata": {
            "tags": []
          }
        },
        {
          "output_type": "stream",
          "text": [
            "\n",
            "[ 1335  1655  1421 22452  1138  1151  1841  1107   170 19850  2035  1113\n",
            "   170  2699  3227  1107  1890   118  4013 13705   119     0     0     0\n",
            "     0     0     0     0     0     0     0     0     0     0     0     0\n",
            "     0     0     0     0     0     0     0     0     0     0     0     0\n",
            "     0     0]\n",
            "[16 16 16 16 16 16 16 16 16 16 16 16 16 16 16 16  2  2  2  9 16 17 17 17\n",
            " 17 17 17 17 17 17 17 17 17 17 17 17 17 17 17 17 17 17 17 17 17 17 17 17\n",
            " 17 17]\n",
            "18\n"
          ],
          "name": "stdout"
        }
      ]
    },
    {
      "cell_type": "markdown",
      "metadata": {
        "id": "Lr9Nv6llH554",
        "colab_type": "text"
      },
      "source": [
        "Declare model"
      ]
    },
    {
      "cell_type": "code",
      "metadata": {
        "id": "_mFnOyRj3hSW",
        "colab_type": "code",
        "colab": {
          "base_uri": "https://localhost:8080/",
          "height": 311
        },
        "outputId": "bbd9403b-981c-4215-f492-8ba29ac1dee5"
      },
      "source": [
        "def create_distilbert_model(freeze = True):\n",
        "    input_id = Input((MAX_LEN,), dtype=tf.int32)\n",
        "    input_mask = Input((MAX_LEN,), dtype=tf.int32)\n",
        "\n",
        "    config = DistilBertConfig()\n",
        "    config.output_hidden_states = False\n",
        "    transformer_model = TFDistilBertModel.from_pretrained('distilbert-base-uncased',\n",
        "                                                          config=config)\n",
        "\n",
        "    embedding = transformer_model(input_id, attention_mask=input_mask)[0]\n",
        "    \n",
        "    if freeze:\n",
        "      # freezing layers to skip fine-tuning of BERT layers\n",
        "      for layer in transformer_model.layers:\n",
        "          layer.trainable = False\n",
        "\n",
        "    x = TimeDistributed(Dense(18, activation='softmax'))(embedding)\n",
        "\n",
        "    model = Model(inputs=[input_id, input_mask], outputs=x)\n",
        "    \n",
        "    return model\n",
        "\n",
        "model = create_distilbert_model(freeze = False)\n",
        "model.summary()"
      ],
      "execution_count": 43,
      "outputs": [
        {
          "output_type": "stream",
          "text": [
            "Model: \"model_2\"\n",
            "__________________________________________________________________________________________________\n",
            "Layer (type)                    Output Shape         Param #     Connected to                     \n",
            "==================================================================================================\n",
            "input_5 (InputLayer)            [(None, 50)]         0                                            \n",
            "__________________________________________________________________________________________________\n",
            "input_6 (InputLayer)            [(None, 50)]         0                                            \n",
            "__________________________________________________________________________________________________\n",
            "tf_distil_bert_model_2 (TFDisti ((None, 50, 768),)   66362880    input_5[0][0]                    \n",
            "__________________________________________________________________________________________________\n",
            "time_distributed_2 (TimeDistrib (None, 50, 18)       13842       tf_distil_bert_model_2[0][0]     \n",
            "==================================================================================================\n",
            "Total params: 66,376,722\n",
            "Trainable params: 66,376,722\n",
            "Non-trainable params: 0\n",
            "__________________________________________________________________________________________________\n"
          ],
          "name": "stdout"
        }
      ]
    },
    {
      "cell_type": "markdown",
      "metadata": {
        "id": "jrbgrfjOH9Fj",
        "colab_type": "text"
      },
      "source": [
        "Compile model"
      ]
    },
    {
      "cell_type": "code",
      "metadata": {
        "id": "s6CJrLsE6CCi",
        "colab_type": "code",
        "colab": {}
      },
      "source": [
        "optimizer = tf.keras.optimizers.Adam()\n",
        "loss = tf.keras.losses.SparseCategoricalCrossentropy(from_logits=True)\n",
        "metric = tf.keras.metrics.SparseCategoricalAccuracy('accuracy')\n",
        "\n",
        "model.compile(optimizer=optimizer, loss=loss, metrics=[metric])"
      ],
      "execution_count": 0,
      "outputs": []
    },
    {
      "cell_type": "markdown",
      "metadata": {
        "id": "1Y4o3cnBH_H3",
        "colab_type": "text"
      },
      "source": [
        "Check shapes"
      ]
    },
    {
      "cell_type": "code",
      "metadata": {
        "id": "-VLdciWB7RIV",
        "colab_type": "code",
        "colab": {
          "base_uri": "https://localhost:8080/",
          "height": 513
        },
        "outputId": "3afb860e-ca7f-4665-ae61-35f4ca2e438b"
      },
      "source": [
        "print('Training inputs')\n",
        "print(tr_inputs.shape)\n",
        "print(tr_inputs)\n",
        "print('Training masks')\n",
        "print(np.array(tr_masks).shape)\n",
        "print(np.array(tr_masks))\n",
        "print('Training labels/tags')\n",
        "print(tr_tags.shape)\n",
        "print(tr_tags)"
      ],
      "execution_count": 7,
      "outputs": [
        {
          "output_type": "stream",
          "text": [
            "Training inputs\n",
            "(43163, 50)\n",
            "[[ 1335  1655  1421 ...     0     0     0]\n",
            " [15769  1163  1199 ...     0     0     0]\n",
            " [  138  2315  2430 ...     0     0     0]\n",
            " ...\n",
            " [16228  1144   170 ...     0     0     0]\n",
            " [23077   117  1126 ...     0     0     0]\n",
            " [ 1109  1938  2078 ...     0     0     0]]\n",
            "Training masks\n",
            "(43163, 50)\n",
            "[[1. 1. 1. ... 0. 0. 0.]\n",
            " [1. 1. 1. ... 0. 0. 0.]\n",
            " [1. 1. 1. ... 0. 0. 0.]\n",
            " ...\n",
            " [1. 1. 1. ... 0. 0. 0.]\n",
            " [1. 1. 1. ... 0. 0. 0.]\n",
            " [1. 1. 1. ... 0. 0. 0.]]\n",
            "Training labels/tags\n",
            "(43163, 50)\n",
            "[[16 16 16 ... 17 17 17]\n",
            " [15 16 16 ... 17 17 17]\n",
            " [15 15 15 ... 17 17 17]\n",
            " ...\n",
            " [15 16 16 ... 17 17 17]\n",
            " [16 16 16 ... 17 17 17]\n",
            " [16  5 16 ... 17 17 17]]\n"
          ],
          "name": "stdout"
        }
      ]
    },
    {
      "cell_type": "code",
      "metadata": {
        "id": "7kUeOgBTJDKq",
        "colab_type": "code",
        "colab": {}
      },
      "source": [
        "train_obs = tr_inputs.shape[0]"
      ],
      "execution_count": 0,
      "outputs": []
    },
    {
      "cell_type": "code",
      "metadata": {
        "id": "dRNv7wy-8K2c",
        "colab_type": "code",
        "colab": {}
      },
      "source": [
        "train_inputs = [tr_inputs[:train_obs,],np.array(tr_masks)[:train_obs,]]"
      ],
      "execution_count": 0,
      "outputs": []
    },
    {
      "cell_type": "code",
      "metadata": {
        "id": "bQp7VgrE_onX",
        "colab_type": "code",
        "colab": {
          "base_uri": "https://localhost:8080/",
          "height": 35
        },
        "outputId": "524cb5b3-f74c-4bbd-f47e-bce31918fb2d"
      },
      "source": [
        "tr_tags[:train_obs,].shape"
      ],
      "execution_count": 20,
      "outputs": [
        {
          "output_type": "execute_result",
          "data": {
            "text/plain": [
              "(43163, 50)"
            ]
          },
          "metadata": {
            "tags": []
          },
          "execution_count": 20
        }
      ]
    },
    {
      "cell_type": "markdown",
      "metadata": {
        "id": "8Zd1zBryIA3j",
        "colab_type": "text"
      },
      "source": [
        "Train the model with freezed DistilBERT layers"
      ]
    },
    {
      "cell_type": "code",
      "metadata": {
        "id": "yTkNluZR6Fzy",
        "colab_type": "code",
        "colab": {
          "base_uri": "https://localhost:8080/",
          "height": 127
        },
        "outputId": "9c3c1abc-c72e-4cd2-ce65-6e3eff1c2d2d"
      },
      "source": [
        "history = model.fit(train_inputs,\n",
        "                    tr_tags[:train_obs,], \n",
        "                    epochs=3,\n",
        "                    batch_size = 32)"
      ],
      "execution_count": 21,
      "outputs": [
        {
          "output_type": "stream",
          "text": [
            "Epoch 1/3\n",
            "1349/1349 [==============================] - 55s 41ms/step - loss: 2.1702\n",
            "Epoch 2/3\n",
            "1349/1349 [==============================] - 55s 41ms/step - loss: 2.1574\n",
            "Epoch 3/3\n",
            "1349/1349 [==============================] - 55s 41ms/step - loss: 2.1505\n"
          ],
          "name": "stdout"
        }
      ]
    },
    {
      "cell_type": "markdown",
      "metadata": {
        "id": "HSV3QiyoK9vb",
        "colab_type": "text"
      },
      "source": [
        "Unfreeze layers"
      ]
    },
    {
      "cell_type": "code",
      "metadata": {
        "id": "ib2nihndKHc_",
        "colab_type": "code",
        "colab": {
          "base_uri": "https://localhost:8080/",
          "height": 127
        },
        "outputId": "9b050337-683d-4234-a6cc-d0e76ebad5b4"
      },
      "source": [
        "history = model.fit(train_inputs,\n",
        "                    tr_tags[:train_obs,], \n",
        "                    epochs=3,\n",
        "                    batch_size = 32)"
      ],
      "execution_count": 45,
      "outputs": [
        {
          "output_type": "stream",
          "text": [
            "Epoch 1/3\n",
            "1349/1349 [==============================] - 144s 107ms/step - loss: 2.4843 - accuracy: 0.4972\n",
            "Epoch 2/3\n",
            "1349/1349 [==============================] - 144s 107ms/step - loss: 2.4840 - accuracy: 0.4975\n",
            "Epoch 3/3\n",
            "1349/1349 [==============================] - 144s 107ms/step - loss: 2.5463 - accuracy: 0.4351\n"
          ],
          "name": "stdout"
        }
      ]
    },
    {
      "cell_type": "markdown",
      "metadata": {
        "id": "y9EN3QmqNHAD",
        "colab_type": "text"
      },
      "source": [
        "Evaluate"
      ]
    },
    {
      "cell_type": "code",
      "metadata": {
        "id": "TDVXelOqNHMr",
        "colab_type": "code",
        "colab": {}
      },
      "source": [
        "test_inputs = [val_inputs, np.array(val_masks)]\n",
        "predictions = model.predict(test_inputs)"
      ],
      "execution_count": 0,
      "outputs": []
    },
    {
      "cell_type": "code",
      "metadata": {
        "id": "XVlMyRv9OXUx",
        "colab_type": "code",
        "colab": {
          "base_uri": "https://localhost:8080/",
          "height": 35
        },
        "outputId": "0db54def-0f6c-4f24-a94a-1929e11f4dca"
      },
      "source": [
        "predictions[0].shape"
      ],
      "execution_count": 30,
      "outputs": [
        {
          "output_type": "execute_result",
          "data": {
            "text/plain": [
              "(50, 18)"
            ]
          },
          "metadata": {
            "tags": []
          },
          "execution_count": 30
        }
      ]
    },
    {
      "cell_type": "code",
      "metadata": {
        "id": "oRdu6svcPFnk",
        "colab_type": "code",
        "colab": {
          "base_uri": "https://localhost:8080/",
          "height": 109
        },
        "outputId": "15789341-2b36-4d83-8454-f9dbb7aaf85e"
      },
      "source": [
        "predictions[0][0]"
      ],
      "execution_count": 40,
      "outputs": [
        {
          "output_type": "execute_result",
          "data": {
            "text/plain": [
              "array([3.3014374e-13, 1.1610874e-11, 9.2914427e-18, 3.4581113e-15,\n",
              "       4.6539504e-14, 1.9064605e-15, 2.1595694e-15, 6.5220876e-15,\n",
              "       3.5513276e-17, 1.7335930e-14, 2.9685181e-14, 7.9044066e-16,\n",
              "       1.2492772e-14, 2.3777659e-15, 9.0894531e-12, 7.6622076e-16,\n",
              "       1.0000000e+00, 5.6802061e-16], dtype=float32)"
            ]
          },
          "metadata": {
            "tags": []
          },
          "execution_count": 40
        }
      ]
    },
    {
      "cell_type": "code",
      "metadata": {
        "id": "nKn9diGxPG7u",
        "colab_type": "code",
        "colab": {
          "base_uri": "https://localhost:8080/",
          "height": 348
        },
        "outputId": "ff209741-ad6c-41a3-8193-5eab12416555"
      },
      "source": [
        "tag2idx"
      ],
      "execution_count": 41,
      "outputs": [
        {
          "output_type": "execute_result",
          "data": {
            "text/plain": [
              "{'B-art': 14,\n",
              " 'B-eve': 0,\n",
              " 'B-geo': 2,\n",
              " 'B-gpe': 5,\n",
              " 'B-nat': 1,\n",
              " 'B-org': 15,\n",
              " 'B-per': 8,\n",
              " 'B-tim': 11,\n",
              " 'I-art': 4,\n",
              " 'I-eve': 10,\n",
              " 'I-geo': 9,\n",
              " 'I-gpe': 3,\n",
              " 'I-nat': 12,\n",
              " 'I-org': 7,\n",
              " 'I-per': 6,\n",
              " 'I-tim': 13,\n",
              " 'O': 16,\n",
              " 'PAD': 17}"
            ]
          },
          "metadata": {
            "tags": []
          },
          "execution_count": 41
        }
      ]
    },
    {
      "cell_type": "code",
      "metadata": {
        "id": "vcP4GW_VPPhv",
        "colab_type": "code",
        "colab": {}
      },
      "source": [
        ""
      ],
      "execution_count": 0,
      "outputs": []
    }
  ]
}
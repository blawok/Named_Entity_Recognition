{
 "cells": [
  {
   "cell_type": "markdown",
   "metadata": {},
   "source": [
    "# BiLSTM training"
   ]
  },
  {
   "cell_type": "code",
   "execution_count": 1,
   "metadata": {},
   "outputs": [],
   "source": [
    "import pandas as pd\n",
    "import numpy as np\n",
    "import os\n",
    "import json\n",
    "import sagemaker\n",
    "\n",
    "from sagemaker.tensorflow import TensorFlow"
   ]
  },
  {
   "cell_type": "code",
   "execution_count": 2,
   "metadata": {},
   "outputs": [
    {
     "name": "stdout",
     "output_type": "stream",
     "text": [
      "Bucket: sagemaker-eu-west-1-087816224558\n",
      "Role: arn:aws:iam::087816224558:role/service-role/AmazonSageMaker-ExecutionRole-20200424T125478\n"
     ]
    }
   ],
   "source": [
    "sagemaker_session = sagemaker.Session()\n",
    "role = sagemaker.get_execution_role()\n",
    "bucket = sagemaker_session.default_bucket()\n",
    "\n",
    "print(f'Bucket: {bucket}')\n",
    "print(f'Role: {role}')"
   ]
  },
  {
   "cell_type": "markdown",
   "metadata": {},
   "source": [
    "## Load constants and directories"
   ]
  },
  {
   "cell_type": "code",
   "execution_count": 3,
   "metadata": {},
   "outputs": [],
   "source": [
    "constants = json.load( open( \"utils/objects/constants_dict.json\", \"r\" ) )\n",
    "tag2idx = json.load( open(\"utils/objects/tag2idx.json\", \"r\"))\n",
    "data_directories = json.load( open(\"utils/objects/data_directories.json\", \"r\"))"
   ]
  },
  {
   "cell_type": "code",
   "execution_count": 4,
   "metadata": {},
   "outputs": [
    {
     "name": "stdout",
     "output_type": "stream",
     "text": [
      "Constants:\n"
     ]
    },
    {
     "data": {
      "text/plain": [
       "{'N_WORDS': 35178, 'N_TAGS': 17, 'MAX_LEN': 45}"
      ]
     },
     "metadata": {},
     "output_type": "display_data"
    },
    {
     "name": "stdout",
     "output_type": "stream",
     "text": [
      "Directories:\n"
     ]
    },
    {
     "data": {
      "text/plain": [
       "{'train_data_directory': 's3://sagemaker-eu-west-1-087816224558/named_entity_recognition/bilstm_data/bilstm_train.csv',\n",
       " 'test_data_directory': 's3://sagemaker-eu-west-1-087816224558/named_entity_recognition/bilstm_data/bilstm_test.csv'}"
      ]
     },
     "metadata": {},
     "output_type": "display_data"
    }
   ],
   "source": [
    "print('Constants:')\n",
    "display(constants)\n",
    "print('Directories:')\n",
    "display(data_directories)"
   ]
  },
  {
   "cell_type": "markdown",
   "metadata": {},
   "source": [
    "## Training script"
   ]
  },
  {
   "cell_type": "markdown",
   "metadata": {},
   "source": [
    "Uncomment cell below to display training script from source_bilstm"
   ]
  },
  {
   "cell_type": "code",
   "execution_count": null,
   "metadata": {},
   "outputs": [],
   "source": [
    "# ! pygmentize models/train_bilstm.py"
   ]
  },
  {
   "cell_type": "markdown",
   "metadata": {},
   "source": [
    "### Hyperparameters"
   ]
  },
  {
   "cell_type": "markdown",
   "metadata": {},
   "source": [
    "Number of epochs is defined to be higher that it possible become - training stops after validation loss stops decreasing or reaches target state (check training script) to prevent overfitting. - it turned out to be 7\n",
    "\n",
    "Conclusions from tuning:\n",
    "- Smaller batch size (16) results in four times higher loss, same with higher (64) - finally I choosed 32.  \n",
    "- Higher (than 256) hidden unit size results in overfitting, 256 seems to be optimal.\n",
    "- Best embedding has been achieved by specifing its dimension to 128.\n"
   ]
  },
  {
   "cell_type": "markdown",
   "metadata": {},
   "source": [
    "#### Final hyperparameters set:"
   ]
  },
  {
   "cell_type": "code",
   "execution_count": 5,
   "metadata": {},
   "outputs": [],
   "source": [
    "hyperparameters={\n",
    "    'epochs': 20,\n",
    "    'batch-size': 32,\n",
    "    'embed-dim': 128,\n",
    "    'hidden-units': 256,\n",
    "    'max-len': constants['MAX_LEN'],\n",
    "    'n-tags': constants['N_TAGS'],\n",
    "    'n-words': constants['N_WORDS'],\n",
    "    'model-version': '1'\n",
    "}"
   ]
  },
  {
   "cell_type": "markdown",
   "metadata": {},
   "source": [
    "### Declare estimator and train the model"
   ]
  },
  {
   "cell_type": "code",
   "execution_count": 8,
   "metadata": {},
   "outputs": [],
   "source": [
    "tf_estimator = TensorFlow(entry_point='train_bilstm.py', \n",
    "                          source_dir=\"source_bilstm\",\n",
    "                          role=role,\n",
    "                          train_instance_count=1, \n",
    "                          train_instance_type='ml.p2.xlarge',\n",
    "                          framework_version='2.1.0', \n",
    "                          py_version='py3',\n",
    "                          script_mode=True,\n",
    "                          hyperparameters=hyperparameters\n",
    "                         )"
   ]
  },
  {
   "cell_type": "code",
   "execution_count": 9,
   "metadata": {},
   "outputs": [
    {
     "name": "stdout",
     "output_type": "stream",
     "text": [
      "2020-06-05 13:02:21 Starting - Starting the training job...\n",
      "2020-06-05 13:02:23 Starting - Launching requested ML instances......\n",
      "2020-06-05 13:03:27 Starting - Preparing the instances for training.........\n",
      "2020-06-05 13:05:05 Downloading - Downloading input data......\n",
      "2020-06-05 13:05:54 Training - Downloading the training image..\n",
      "2020-06-05 13:06:27 Training - Training image download completed. Training in progress.\u001b[34m2020-06-05 13:06:32,751 sagemaker-containers INFO     Imported framework sagemaker_tensorflow_container.training\u001b[0m\n",
      "\u001b[34m2020-06-05 13:06:33,227 sagemaker-containers INFO     Invoking user script\n",
      "\u001b[0m\n",
      "\u001b[34mTraining Env:\n",
      "\u001b[0m\n",
      "\u001b[34m{\n",
      "    \"additional_framework_parameters\": {},\n",
      "    \"channel_input_dirs\": {\n",
      "        \"training\": \"/opt/ml/input/data/training\"\n",
      "    },\n",
      "    \"current_host\": \"algo-1\",\n",
      "    \"framework_module\": \"sagemaker_tensorflow_container.training:main\",\n",
      "    \"hosts\": [\n",
      "        \"algo-1\"\n",
      "    ],\n",
      "    \"hyperparameters\": {\n",
      "        \"embed-dim\": 128,\n",
      "        \"batch-size\": 32,\n",
      "        \"max-len\": 45,\n",
      "        \"n-words\": 35178,\n",
      "        \"hidden-units\": 256,\n",
      "        \"model_dir\": \"s3://sagemaker-eu-west-1-087816224558/tensorflow-training-2020-06-05-13-02-20-822/model\",\n",
      "        \"model-version\": \"1\",\n",
      "        \"epochs\": 20,\n",
      "        \"n-tags\": 17\n",
      "    },\n",
      "    \"input_config_dir\": \"/opt/ml/input/config\",\n",
      "    \"input_data_config\": {\n",
      "        \"training\": {\n",
      "            \"TrainingInputMode\": \"File\",\n",
      "            \"S3DistributionType\": \"FullyReplicated\",\n",
      "            \"RecordWrapperType\": \"None\"\n",
      "        }\n",
      "    },\n",
      "    \"input_dir\": \"/opt/ml/input\",\n",
      "    \"is_master\": true,\n",
      "    \"job_name\": \"tensorflow-training-2020-06-05-13-02-20-822\",\n",
      "    \"log_level\": 20,\n",
      "    \"master_hostname\": \"algo-1\",\n",
      "    \"model_dir\": \"/opt/ml/model\",\n",
      "    \"module_dir\": \"s3://sagemaker-eu-west-1-087816224558/tensorflow-training-2020-06-05-13-02-20-822/source/sourcedir.tar.gz\",\n",
      "    \"module_name\": \"train_bilstm\",\n",
      "    \"network_interface_name\": \"eth0\",\n",
      "    \"num_cpus\": 4,\n",
      "    \"num_gpus\": 1,\n",
      "    \"output_data_dir\": \"/opt/ml/output/data\",\n",
      "    \"output_dir\": \"/opt/ml/output\",\n",
      "    \"output_intermediate_dir\": \"/opt/ml/output/intermediate\",\n",
      "    \"resource_config\": {\n",
      "        \"current_host\": \"algo-1\",\n",
      "        \"hosts\": [\n",
      "            \"algo-1\"\n",
      "        ],\n",
      "        \"network_interface_name\": \"eth0\"\n",
      "    },\n",
      "    \"user_entry_point\": \"train_bilstm.py\"\u001b[0m\n",
      "\u001b[34m}\n",
      "\u001b[0m\n",
      "\u001b[34mEnvironment variables:\n",
      "\u001b[0m\n",
      "\u001b[34mSM_HOSTS=[\"algo-1\"]\u001b[0m\n",
      "\u001b[34mSM_NETWORK_INTERFACE_NAME=eth0\u001b[0m\n",
      "\u001b[34mSM_HPS={\"batch-size\":32,\"embed-dim\":128,\"epochs\":20,\"hidden-units\":256,\"max-len\":45,\"model-version\":\"1\",\"model_dir\":\"s3://sagemaker-eu-west-1-087816224558/tensorflow-training-2020-06-05-13-02-20-822/model\",\"n-tags\":17,\"n-words\":35178}\u001b[0m\n",
      "\u001b[34mSM_USER_ENTRY_POINT=train_bilstm.py\u001b[0m\n",
      "\u001b[34mSM_FRAMEWORK_PARAMS={}\u001b[0m\n",
      "\u001b[34mSM_RESOURCE_CONFIG={\"current_host\":\"algo-1\",\"hosts\":[\"algo-1\"],\"network_interface_name\":\"eth0\"}\u001b[0m\n",
      "\u001b[34mSM_INPUT_DATA_CONFIG={\"training\":{\"RecordWrapperType\":\"None\",\"S3DistributionType\":\"FullyReplicated\",\"TrainingInputMode\":\"File\"}}\u001b[0m\n",
      "\u001b[34mSM_OUTPUT_DATA_DIR=/opt/ml/output/data\u001b[0m\n",
      "\u001b[34mSM_CHANNELS=[\"training\"]\u001b[0m\n",
      "\u001b[34mSM_CURRENT_HOST=algo-1\u001b[0m\n",
      "\u001b[34mSM_MODULE_NAME=train_bilstm\u001b[0m\n",
      "\u001b[34mSM_LOG_LEVEL=20\u001b[0m\n",
      "\u001b[34mSM_FRAMEWORK_MODULE=sagemaker_tensorflow_container.training:main\u001b[0m\n",
      "\u001b[34mSM_INPUT_DIR=/opt/ml/input\u001b[0m\n",
      "\u001b[34mSM_INPUT_CONFIG_DIR=/opt/ml/input/config\u001b[0m\n",
      "\u001b[34mSM_OUTPUT_DIR=/opt/ml/output\u001b[0m\n",
      "\u001b[34mSM_NUM_CPUS=4\u001b[0m\n",
      "\u001b[34mSM_NUM_GPUS=1\u001b[0m\n",
      "\u001b[34mSM_MODEL_DIR=/opt/ml/model\u001b[0m\n",
      "\u001b[34mSM_MODULE_DIR=s3://sagemaker-eu-west-1-087816224558/tensorflow-training-2020-06-05-13-02-20-822/source/sourcedir.tar.gz\u001b[0m\n",
      "\u001b[34mSM_TRAINING_ENV={\"additional_framework_parameters\":{},\"channel_input_dirs\":{\"training\":\"/opt/ml/input/data/training\"},\"current_host\":\"algo-1\",\"framework_module\":\"sagemaker_tensorflow_container.training:main\",\"hosts\":[\"algo-1\"],\"hyperparameters\":{\"batch-size\":32,\"embed-dim\":128,\"epochs\":20,\"hidden-units\":256,\"max-len\":45,\"model-version\":\"1\",\"model_dir\":\"s3://sagemaker-eu-west-1-087816224558/tensorflow-training-2020-06-05-13-02-20-822/model\",\"n-tags\":17,\"n-words\":35178},\"input_config_dir\":\"/opt/ml/input/config\",\"input_data_config\":{\"training\":{\"RecordWrapperType\":\"None\",\"S3DistributionType\":\"FullyReplicated\",\"TrainingInputMode\":\"File\"}},\"input_dir\":\"/opt/ml/input\",\"is_master\":true,\"job_name\":\"tensorflow-training-2020-06-05-13-02-20-822\",\"log_level\":20,\"master_hostname\":\"algo-1\",\"model_dir\":\"/opt/ml/model\",\"module_dir\":\"s3://sagemaker-eu-west-1-087816224558/tensorflow-training-2020-06-05-13-02-20-822/source/sourcedir.tar.gz\",\"module_name\":\"train_bilstm\",\"network_interface_name\":\"eth0\",\"num_cpus\":4,\"num_gpus\":1,\"output_data_dir\":\"/opt/ml/output/data\",\"output_dir\":\"/opt/ml/output\",\"output_intermediate_dir\":\"/opt/ml/output/intermediate\",\"resource_config\":{\"current_host\":\"algo-1\",\"hosts\":[\"algo-1\"],\"network_interface_name\":\"eth0\"},\"user_entry_point\":\"train_bilstm.py\"}\u001b[0m\n",
      "\u001b[34mSM_USER_ARGS=[\"--batch-size\",\"32\",\"--embed-dim\",\"128\",\"--epochs\",\"20\",\"--hidden-units\",\"256\",\"--max-len\",\"45\",\"--model-version\",\"1\",\"--model_dir\",\"s3://sagemaker-eu-west-1-087816224558/tensorflow-training-2020-06-05-13-02-20-822/model\",\"--n-tags\",\"17\",\"--n-words\",\"35178\"]\u001b[0m\n",
      "\u001b[34mSM_OUTPUT_INTERMEDIATE_DIR=/opt/ml/output/intermediate\u001b[0m\n",
      "\u001b[34mSM_CHANNEL_TRAINING=/opt/ml/input/data/training\u001b[0m\n",
      "\u001b[34mSM_HP_EMBED-DIM=128\u001b[0m\n",
      "\u001b[34mSM_HP_BATCH-SIZE=32\u001b[0m\n",
      "\u001b[34mSM_HP_MAX-LEN=45\u001b[0m\n",
      "\u001b[34mSM_HP_N-WORDS=35178\u001b[0m\n",
      "\u001b[34mSM_HP_HIDDEN-UNITS=256\u001b[0m\n",
      "\u001b[34mSM_HP_MODEL_DIR=s3://sagemaker-eu-west-1-087816224558/tensorflow-training-2020-06-05-13-02-20-822/model\u001b[0m\n",
      "\u001b[34mSM_HP_MODEL-VERSION=1\u001b[0m\n",
      "\u001b[34mSM_HP_EPOCHS=20\u001b[0m\n",
      "\u001b[34mSM_HP_N-TAGS=17\u001b[0m\n",
      "\u001b[34mPYTHONPATH=/opt/ml/code:/usr/local/bin:/usr/lib/python36.zip:/usr/lib/python3.6:/usr/lib/python3.6/lib-dynload:/usr/local/lib/python3.6/dist-packages:/usr/lib/python3/dist-packages\n",
      "\u001b[0m\n",
      "\u001b[34mInvoking script with the following command:\n",
      "\u001b[0m\n",
      "\u001b[34m/usr/bin/python3 train_bilstm.py --batch-size 32 --embed-dim 128 --epochs 20 --hidden-units 256 --max-len 45 --model-version 1 --model_dir s3://sagemaker-eu-west-1-087816224558/tensorflow-training-2020-06-05-13-02-20-822/model --n-tags 17 --n-words 35178\n",
      "\n",
      "\u001b[0m\n",
      "\u001b[34m/opt/ml/input/data/training\u001b[0m\n",
      "\u001b[34m[2020-06-05 13:06:35.987 ip-10-0-123-93.eu-west-1.compute.internal:23 INFO json_config.py:90] Creating hook from json_config at /opt/ml/input/config/debughookconfig.json.\u001b[0m\n",
      "\u001b[34m[2020-06-05 13:06:35.987 ip-10-0-123-93.eu-west-1.compute.internal:23 INFO hook.py:183] tensorboard_dir has not been set for the hook. SMDebug will not be exporting tensorboard summaries.\u001b[0m\n",
      "\u001b[34m[2020-06-05 13:06:35.988 ip-10-0-123-93.eu-west-1.compute.internal:23 INFO hook.py:228] Saving to /opt/ml/output/tensors\u001b[0m\n",
      "\u001b[34mTrain on 38846 samples, validate on 4317 samples\u001b[0m\n",
      "\u001b[34m[2020-06-05 13:06:39.094 ip-10-0-123-93.eu-west-1.compute.internal:23 INFO keras.py:68] Executing in TF2.x eager mode.TF 2.x eager doesn't provide gradient and optimizer variable values.SageMaker Debugger will not be saving gradients and optimizer variables in this case\u001b[0m\n",
      "\u001b[34mEpoch 1/20\u001b[0m\n",
      "\u001b[34m[2020-06-05 13:06:39.105 ip-10-0-123-93.eu-west-1.compute.internal:23 INFO hook.py:364] Monitoring the collections: losses, sm_metrics, metrics\u001b[0m\n",
      "\u001b[34mERROR:root:'NoneType' object has no attribute 'write'\u001b[0m\n",
      "\u001b[34m38846/38846 - 70s - loss: 0.1416 - val_loss: 0.0706\u001b[0m\n",
      "\u001b[34mEpoch 2/20\u001b[0m\n",
      "\u001b[34m38846/38846 - 64s - loss: 0.0621 - val_loss: 0.0640\u001b[0m\n",
      "\u001b[34mEpoch 3/20\u001b[0m\n",
      "\u001b[34m38846/38846 - 64s - loss: 0.0546 - val_loss: 0.0617\u001b[0m\n",
      "\u001b[34mEpoch 4/20\u001b[0m\n",
      "\u001b[34m38846/38846 - 64s - loss: 0.0500 - val_loss: 0.0603\u001b[0m\n",
      "\u001b[34mEpoch 5/20\u001b[0m\n",
      "\u001b[34m38846/38846 - 64s - loss: 0.0461 - val_loss: 0.0616\u001b[0m\n",
      "\u001b[34mEpoch 6/20\u001b[0m\n",
      "\u001b[34m38846/38846 - 64s - loss: 0.0424 - val_loss: 0.0622\u001b[0m\n",
      "\u001b[34mEpoch 7/20\u001b[0m\n",
      "\u001b[34m38846/38846 - 64s - loss: 0.0387 - val_loss: 0.0645\u001b[0m\n",
      "\u001b[34mEpoch 00007: early stopping\u001b[0m\n",
      "\u001b[34m2020-06-05 13:14:19.769059: W tensorflow/python/util/util.cc:319] Sets are not currently considered sequences, but this may change in the future, so consider avoiding using them.\u001b[0m\n",
      "\u001b[34mWARNING:tensorflow:From /usr/local/lib/python3.6/dist-packages/tensorflow_core/python/ops/resource_variable_ops.py:1786: calling BaseResourceVariable.__init__ (from tensorflow.python.ops.resource_variable_ops) with constraint is deprecated and will be removed in a future version.\u001b[0m\n",
      "\u001b[34mInstructions for updating:\u001b[0m\n",
      "\u001b[34mIf using Keras pass *_constraint arguments to layers.\u001b[0m\n",
      "\u001b[34mWARNING:tensorflow:From /usr/local/lib/python3.6/dist-packages/tensorflow_core/python/ops/resource_variable_ops.py:1786: calling BaseResourceVariable.__init__ (from tensorflow.python.ops.resource_variable_ops) with constraint is deprecated and will be removed in a future version.\u001b[0m\n",
      "\u001b[34mInstructions for updating:\u001b[0m\n",
      "\u001b[34mIf using Keras pass *_constraint arguments to layers.\u001b[0m\n",
      "\u001b[34mINFO:tensorflow:Assets written to: /opt/ml/model/bi_lstm/1/assets\u001b[0m\n",
      "\u001b[34mINFO:tensorflow:Assets written to: /opt/ml/model/bi_lstm/1/assets\u001b[0m\n",
      "\u001b[34m[2020-06-05 13:14:26.165 ip-10-0-123-93.eu-west-1.compute.internal:23 INFO utils.py:25] The end of training job file will not be written for jobs running under SageMaker.\u001b[0m\n",
      "\u001b[34m2020-06-05 13:14:27,643 sagemaker-containers INFO     Reporting training SUCCESS\u001b[0m\n",
      "\n",
      "2020-06-05 13:14:42 Uploading - Uploading generated training model\n",
      "2020-06-05 13:14:42 Completed - Training job completed\n",
      "Training seconds: 577\n",
      "Billable seconds: 577\n"
     ]
    }
   ],
   "source": [
    "tf_estimator.fit({'training': data_directories['train_data_directory']})"
   ]
  },
  {
   "cell_type": "markdown",
   "metadata": {},
   "source": [
    "## Deploy model"
   ]
  },
  {
   "cell_type": "code",
   "execution_count": 10,
   "metadata": {},
   "outputs": [
    {
     "name": "stdout",
     "output_type": "stream",
     "text": [
      "-------------!"
     ]
    }
   ],
   "source": [
    "tf_predictor = tf_estimator.deploy(initial_instance_count=1,\n",
    "                                   instance_type='ml.m4.xlarge',\n",
    "                                   endpoint_name='ner-bilstm-v8')"
   ]
  },
  {
   "cell_type": "code",
   "execution_count": 11,
   "metadata": {},
   "outputs": [
    {
     "data": {
      "text/plain": [
       "'ner-bilstm-v8'"
      ]
     },
     "execution_count": 11,
     "metadata": {},
     "output_type": "execute_result"
    }
   ],
   "source": [
    "tf_predictor.endpoint"
   ]
  },
  {
   "cell_type": "markdown",
   "metadata": {},
   "source": [
    "## Clean up (optional)"
   ]
  },
  {
   "cell_type": "code",
   "execution_count": null,
   "metadata": {},
   "outputs": [],
   "source": [
    "# tf_predictor.delete_endpoint()"
   ]
  },
  {
   "cell_type": "code",
   "execution_count": null,
   "metadata": {},
   "outputs": [],
   "source": [
    "# import boto3\n",
    "# bucket_to_delete = boto3.resource('s3').Bucket(bucket)\n",
    "# bucket_to_delete.objects.all().delete()"
   ]
  }
 ],
 "metadata": {
  "kernelspec": {
   "display_name": "conda_amazonei_tensorflow_p36",
   "language": "python",
   "name": "conda_amazonei_tensorflow_p36"
  },
  "language_info": {
   "codemirror_mode": {
    "name": "ipython",
    "version": 3
   },
   "file_extension": ".py",
   "mimetype": "text/x-python",
   "name": "python",
   "nbconvert_exporter": "python",
   "pygments_lexer": "ipython3",
   "version": "3.6.6"
  }
 },
 "nbformat": 4,
 "nbformat_minor": 4
}

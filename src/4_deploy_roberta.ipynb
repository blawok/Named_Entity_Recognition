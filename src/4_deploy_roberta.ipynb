{
 "cells": [
  {
   "cell_type": "code",
   "execution_count": 1,
   "metadata": {},
   "outputs": [],
   "source": [
    "import sagemaker\n",
    "import numpy as np\n",
    "import pandas as pd\n",
    "import os\n",
    "import torch\n",
    "from sagemaker.predictor import RealTimePredictor\n",
    "from sagemaker.pytorch import PyTorchModel\n",
    "from source_roberta import utils\n",
    "\n",
    "tag2name = utils._get_tag2name()"
   ]
  },
  {
   "cell_type": "code",
   "execution_count": 2,
   "metadata": {},
   "outputs": [],
   "source": [
    "sagemaker_session = sagemaker.Session()\n",
    "role = sagemaker.get_execution_role()\n",
    "bucket = sagemaker_session.default_bucket()"
   ]
  },
  {
   "cell_type": "markdown",
   "metadata": {},
   "source": [
    "## Deploy model"
   ]
  },
  {
   "cell_type": "code",
   "execution_count": 3,
   "metadata": {},
   "outputs": [],
   "source": [
    "class StringPredictor(RealTimePredictor):\n",
    "    def __init__(self, endpoint_name, sagemaker_session):\n",
    "        super(StringPredictor, self).__init__(endpoint_name, sagemaker_session, content_type='text/plain')\n",
    "\n",
    "model = PyTorchModel(model_data='s3://sagemaker-eu-west-1-087816224558/sagemaker-pytorch-2020-06-06-17-15-12-540/output/model.tar.gz',\n",
    "                     role = role,\n",
    "                     framework_version='1.1.0',\n",
    "                     entry_point='predict.py',\n",
    "                     source_dir='serve',\n",
    "                     predictor_cls=StringPredictor)"
   ]
  },
  {
   "cell_type": "code",
   "execution_count": 4,
   "metadata": {},
   "outputs": [
    {
     "name": "stdout",
     "output_type": "stream",
     "text": [
      "---------------!"
     ]
    }
   ],
   "source": [
    "predictor = model.deploy(initial_instance_count=1,\n",
    "                         instance_type='ml.m4.xlarge',\n",
    "                         endpoint_name='ner-roberta-v12')"
   ]
  },
  {
   "cell_type": "code",
   "execution_count": 5,
   "metadata": {},
   "outputs": [
    {
     "name": "stdout",
     "output_type": "stream",
     "text": [
      "Endpoint name: ner-roberta-v12\n"
     ]
    }
   ],
   "source": [
    "print(f'Endpoint name: {predictor.endpoint}')"
   ]
  },
  {
   "cell_type": "markdown",
   "metadata": {},
   "source": [
    "## Test the endpoint on single input"
   ]
  },
  {
   "cell_type": "code",
   "execution_count": 6,
   "metadata": {},
   "outputs": [],
   "source": [
    "def predict_on_text(text, predictor):\n",
    "    \"\"\"\n",
    "    Method for computing predicitons on given text using predictor.\n",
    "    Parameters:\n",
    "    text       - single string\n",
    "    predictor  - PyTorchPredictor object\n",
    "    Returns: pandas dataframe with input words and predicted tags\n",
    "    \"\"\"\n",
    "    predictions = predictor.predict(text)\n",
    "    pred_array = np.fromstring(predictions[1:-1], dtype=np.int, sep=', ')\n",
    "    input_length = len(str(text).split())\n",
    "    df_preds = pd.DataFrame(zip([tag2name[i] for i in pred_array[1:(input_length+1)].tolist()], str(text).split()))\n",
    "    df_preds.columns = ['Tag', 'Word']\n",
    "    return df_preds"
   ]
  },
  {
   "cell_type": "code",
   "execution_count": 7,
   "metadata": {},
   "outputs": [
    {
     "name": "stdout",
     "output_type": "stream",
     "text": [
      "     Tag    Word\n",
      "0      O       I\n",
      "1      O    live\n",
      "2      O      in\n",
      "3  B-geo     USA\n",
      "4      O    this\n",
      "5      O      is\n",
      "6      O      my\n",
      "7  B-org     IBM\n",
      "8      O  laptop\n"
     ]
    }
   ],
   "source": [
    "text = 'I live in USA this is my IBM laptop'\n",
    "df_preds = predict_on_text(text, predictor)\n",
    "print(df_preds)"
   ]
  },
  {
   "cell_type": "markdown",
   "metadata": {},
   "source": [
    "### Create predictor from endpoint"
   ]
  },
  {
   "cell_type": "code",
   "execution_count": null,
   "metadata": {},
   "outputs": [],
   "source": [
    "# from sagemaker.pytorch import PyTorchPredictor\n",
    "# predictor = PyTorchPredictor('sagemaker-pytorch-2020-06-01-18-56-03-855',ContentType = 'text/plain')"
   ]
  }
 ],
 "metadata": {
  "kernelspec": {
   "display_name": "conda_pytorch_p36",
   "language": "python",
   "name": "conda_pytorch_p36"
  },
  "language_info": {
   "codemirror_mode": {
    "name": "ipython",
    "version": 3
   },
   "file_extension": ".py",
   "mimetype": "text/x-python",
   "name": "python",
   "nbconvert_exporter": "python",
   "pygments_lexer": "ipython3",
   "version": "3.6.5"
  }
 },
 "nbformat": 4,
 "nbformat_minor": 4
}

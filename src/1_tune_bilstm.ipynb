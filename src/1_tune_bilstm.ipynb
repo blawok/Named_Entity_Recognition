{
 "cells": [
  {
   "cell_type": "code",
   "execution_count": 1,
   "metadata": {},
   "outputs": [],
   "source": [
    "import pandas as pd\n",
    "import numpy as np\n",
    "import os\n",
    "import sagemaker\n",
    "import json\n",
    "\n",
    "from sagemaker.tensorflow import TensorFlow"
   ]
  },
  {
   "cell_type": "code",
   "execution_count": 2,
   "metadata": {},
   "outputs": [
    {
     "name": "stdout",
     "output_type": "stream",
     "text": [
      "Bucket: sagemaker-eu-west-1-087816224558\n",
      "Role: arn:aws:iam::087816224558:role/service-role/AmazonSageMaker-ExecutionRole-20200424T125478\n"
     ]
    }
   ],
   "source": [
    "sagemaker_session = sagemaker.Session()\n",
    "role = sagemaker.get_execution_role()\n",
    "bucket = sagemaker_session.default_bucket()\n",
    "\n",
    "print(f'Bucket: {bucket}')\n",
    "print(f'Role: {role}')"
   ]
  },
  {
   "cell_type": "markdown",
   "metadata": {},
   "source": [
    "## Load constants and directories"
   ]
  },
  {
   "cell_type": "code",
   "execution_count": 3,
   "metadata": {},
   "outputs": [],
   "source": [
    "constants = json.load( open( \"helpers/objects/constants_dict.json\", \"r\" ) )\n",
    "tag2idx = json.load( open(\"helpers/objects/tag2idx.json\", \"r\"))\n",
    "data_directories = json.load( open(\"helpers/objects/data_directories.json\", \"r\"))"
   ]
  },
  {
   "cell_type": "code",
   "execution_count": 4,
   "metadata": {},
   "outputs": [
    {
     "name": "stdout",
     "output_type": "stream",
     "text": [
      "Constants:\n"
     ]
    },
    {
     "data": {
      "text/plain": [
       "{'N_WORDS': 35178, 'N_TAGS': 17, 'MAX_LEN': 50}"
      ]
     },
     "metadata": {},
     "output_type": "display_data"
    },
    {
     "name": "stdout",
     "output_type": "stream",
     "text": [
      "Directories:\n"
     ]
    },
    {
     "data": {
      "text/plain": [
       "{'train_data_directory': 's3://sagemaker-eu-west-1-087816224558/named_entity_recognition/bilstm_data/bilstm_train.csv',\n",
       " 'test_data_directory': 's3://sagemaker-eu-west-1-087816224558/named_entity_recognition/bilstm_data/bilstm_test.csv'}"
      ]
     },
     "metadata": {},
     "output_type": "display_data"
    }
   ],
   "source": [
    "print('Constants:')\n",
    "display(constants)\n",
    "print('Directories:')\n",
    "display(data_directories)"
   ]
  },
  {
   "cell_type": "markdown",
   "metadata": {},
   "source": [
    "# Model"
   ]
  },
  {
   "cell_type": "code",
   "execution_count": 6,
   "metadata": {},
   "outputs": [
    {
     "name": "stdout",
     "output_type": "stream",
     "text": [
      "\u001b[34mimport\u001b[39;49;00m \u001b[04m\u001b[36margparse\u001b[39;49;00m, \u001b[04m\u001b[36mos\u001b[39;49;00m\n",
      "\u001b[34mimport\u001b[39;49;00m \u001b[04m\u001b[36mnumpy\u001b[39;49;00m \u001b[34mas\u001b[39;49;00m \u001b[04m\u001b[36mnp\u001b[39;49;00m\n",
      "\u001b[34mimport\u001b[39;49;00m \u001b[04m\u001b[36mpandas\u001b[39;49;00m \u001b[34mas\u001b[39;49;00m \u001b[04m\u001b[36mpd\u001b[39;49;00m\n",
      "\u001b[34mimport\u001b[39;49;00m \u001b[04m\u001b[36mjson\u001b[39;49;00m\n",
      "\u001b[34mimport\u001b[39;49;00m \u001b[04m\u001b[36msubprocess\u001b[39;49;00m\n",
      "\u001b[34mimport\u001b[39;49;00m \u001b[04m\u001b[36msys\u001b[39;49;00m\n",
      "\n",
      "\u001b[34mfrom\u001b[39;49;00m \u001b[04m\u001b[36mtensorflow.keras\u001b[39;49;00m \u001b[34mimport\u001b[39;49;00m Model, Sequential\n",
      "\u001b[34mfrom\u001b[39;49;00m \u001b[04m\u001b[36mtensorflow.keras.layers\u001b[39;49;00m \u001b[34mimport\u001b[39;49;00m (\n",
      "    Embedding,\n",
      "    SpatialDropout1D,\n",
      "    Bidirectional,\n",
      "    LSTM,\n",
      "    TimeDistributed,\n",
      "    Dense\n",
      ")\n",
      "\u001b[34mfrom\u001b[39;49;00m \u001b[04m\u001b[36mtensorflow.keras.callbacks\u001b[39;49;00m \u001b[34mimport\u001b[39;49;00m EarlyStopping, Callback\n",
      "\n",
      "\n",
      "\u001b[34mclass\u001b[39;49;00m \u001b[04m\u001b[32mBiLSTM\u001b[39;49;00m(Model):\n",
      "\n",
      "    \u001b[34mdef\u001b[39;49;00m \u001b[32m__init__\u001b[39;49;00m(\u001b[36mself\u001b[39;49;00m):\n",
      "        \u001b[36msuper\u001b[39;49;00m(BiLSTM, \u001b[36mself\u001b[39;49;00m).\u001b[32m__init__\u001b[39;49;00m()\n",
      "        \u001b[36mself\u001b[39;49;00m.embedding = Embedding(input_dim=N_WORDS, output_dim=EMBED_DIM, input_length=MAX_LEN)\n",
      "        \u001b[36mself\u001b[39;49;00m.spatial_dropout = SpatialDropout1D(\u001b[34m0.1\u001b[39;49;00m)\n",
      "        \u001b[36mself\u001b[39;49;00m.bilstm = Bidirectional(LSTM(units=HIDDEN_UNITS, return_sequences=\u001b[36mTrue\u001b[39;49;00m))\n",
      "        \u001b[36mself\u001b[39;49;00m.tddense = TimeDistributed(Dense(N_TAGS, activation=\u001b[33m\"\u001b[39;49;00m\u001b[33msoftmax\u001b[39;49;00m\u001b[33m\"\u001b[39;49;00m))\n",
      "\n",
      "    \u001b[34mdef\u001b[39;49;00m \u001b[32mcall\u001b[39;49;00m(\u001b[36mself\u001b[39;49;00m, inputs):\n",
      "        x = \u001b[36mself\u001b[39;49;00m.embedding(inputs)\n",
      "        x = \u001b[36mself\u001b[39;49;00m.spatial_dropout(x)\n",
      "        x = \u001b[36mself\u001b[39;49;00m.bilstm(x)\n",
      "        \u001b[34mreturn\u001b[39;49;00m \u001b[36mself\u001b[39;49;00m.tddense(x)\n",
      "\n",
      "    \n",
      "\u001b[34mclass\u001b[39;49;00m \u001b[04m\u001b[32mLossCallback\u001b[39;49;00m(Callback):\n",
      "    \n",
      "    \u001b[34mdef\u001b[39;49;00m \u001b[32mon_epoch_end\u001b[39;49;00m(\u001b[36mself\u001b[39;49;00m, epoch, logs={}):\n",
      "        \u001b[34mif\u001b[39;49;00m(logs.get(\u001b[33m'\u001b[39;49;00m\u001b[33mval_loss\u001b[39;49;00m\u001b[33m'\u001b[39;49;00m) < \u001b[34m0.03\u001b[39;49;00m \u001b[35mor\u001b[39;49;00m logs.get(\u001b[33m'\u001b[39;49;00m\u001b[33mloss\u001b[39;49;00m\u001b[33m'\u001b[39;49;00m) < \u001b[34m0.02\u001b[39;49;00m):\n",
      "            \u001b[34mprint\u001b[39;49;00m(\u001b[33m\"\u001b[39;49;00m\u001b[33m\\n\u001b[39;49;00m\u001b[33mReached target loss so cancelling training!\u001b[39;49;00m\u001b[33m\"\u001b[39;49;00m)\n",
      "            \u001b[36mself\u001b[39;49;00m.model.stop_training = \u001b[36mTrue\u001b[39;49;00m\n",
      "            \n",
      "            \n",
      "\u001b[34mif\u001b[39;49;00m \u001b[31m__name__\u001b[39;49;00m == \u001b[33m'\u001b[39;49;00m\u001b[33m__main__\u001b[39;49;00m\u001b[33m'\u001b[39;49;00m:\n",
      "\n",
      "    parser = argparse.ArgumentParser()\n",
      "\n",
      "    parser.add_argument(\u001b[33m'\u001b[39;49;00m\u001b[33m--epochs\u001b[39;49;00m\u001b[33m'\u001b[39;49;00m, \u001b[36mtype\u001b[39;49;00m=\u001b[36mint\u001b[39;49;00m, default=\u001b[34m5\u001b[39;49;00m)\n",
      "    parser.add_argument(\u001b[33m'\u001b[39;49;00m\u001b[33m--batch-size\u001b[39;49;00m\u001b[33m'\u001b[39;49;00m, \u001b[36mtype\u001b[39;49;00m=\u001b[36mint\u001b[39;49;00m, default=\u001b[34m32\u001b[39;49;00m)\n",
      "    parser.add_argument(\u001b[33m'\u001b[39;49;00m\u001b[33m--embed-dim\u001b[39;49;00m\u001b[33m'\u001b[39;49;00m, \u001b[36mtype\u001b[39;49;00m=\u001b[36mint\u001b[39;49;00m, default=\u001b[34m50\u001b[39;49;00m)\n",
      "    parser.add_argument(\u001b[33m'\u001b[39;49;00m\u001b[33m--hidden-units\u001b[39;49;00m\u001b[33m'\u001b[39;49;00m, \u001b[36mtype\u001b[39;49;00m=\u001b[36mint\u001b[39;49;00m, default=\u001b[34m128\u001b[39;49;00m)\n",
      "    \n",
      "    parser.add_argument(\u001b[33m'\u001b[39;49;00m\u001b[33m--max-len\u001b[39;49;00m\u001b[33m'\u001b[39;49;00m, \u001b[36mtype\u001b[39;49;00m=\u001b[36mint\u001b[39;49;00m, default=\u001b[34m50\u001b[39;49;00m)\n",
      "    parser.add_argument(\u001b[33m'\u001b[39;49;00m\u001b[33m--n-tags\u001b[39;49;00m\u001b[33m'\u001b[39;49;00m, \u001b[36mtype\u001b[39;49;00m=\u001b[36mint\u001b[39;49;00m, default=\u001b[34m17\u001b[39;49;00m)\n",
      "    parser.add_argument(\u001b[33m'\u001b[39;49;00m\u001b[33m--n-words\u001b[39;49;00m\u001b[33m'\u001b[39;49;00m, \u001b[36mtype\u001b[39;49;00m=\u001b[36mint\u001b[39;49;00m, default=\u001b[34m35178\u001b[39;49;00m)   \n",
      "    \n",
      "    parser.add_argument(\u001b[33m'\u001b[39;49;00m\u001b[33m--model-version\u001b[39;49;00m\u001b[33m'\u001b[39;49;00m, \u001b[36mtype\u001b[39;49;00m=\u001b[36mstr\u001b[39;49;00m, default=\u001b[33m'\u001b[39;49;00m\u001b[33m1\u001b[39;49;00m\u001b[33m'\u001b[39;49;00m)\n",
      "    parser.add_argument(\u001b[33m'\u001b[39;49;00m\u001b[33m--model-dir\u001b[39;49;00m\u001b[33m'\u001b[39;49;00m, \u001b[36mtype\u001b[39;49;00m=\u001b[36mstr\u001b[39;49;00m, default=os.environ[\u001b[33m'\u001b[39;49;00m\u001b[33mSM_MODEL_DIR\u001b[39;49;00m\u001b[33m'\u001b[39;49;00m])\n",
      "    parser.add_argument(\u001b[33m'\u001b[39;49;00m\u001b[33m--training\u001b[39;49;00m\u001b[33m'\u001b[39;49;00m, \u001b[36mtype\u001b[39;49;00m=\u001b[36mstr\u001b[39;49;00m, default=os.environ[\u001b[33m'\u001b[39;49;00m\u001b[33mSM_CHANNEL_TRAINING\u001b[39;49;00m\u001b[33m'\u001b[39;49;00m])\n",
      "    parser.add_argument(\u001b[33m'\u001b[39;49;00m\u001b[33m--hosts\u001b[39;49;00m\u001b[33m'\u001b[39;49;00m, \u001b[36mtype\u001b[39;49;00m=\u001b[36mlist\u001b[39;49;00m, default=json.loads(os.environ.get(\u001b[33m'\u001b[39;49;00m\u001b[33mSM_HOSTS\u001b[39;49;00m\u001b[33m'\u001b[39;49;00m)))\n",
      "    parser.add_argument(\u001b[33m'\u001b[39;49;00m\u001b[33m--current-host\u001b[39;49;00m\u001b[33m'\u001b[39;49;00m, \u001b[36mtype\u001b[39;49;00m=\u001b[36mstr\u001b[39;49;00m, default=os.environ.get(\u001b[33m'\u001b[39;49;00m\u001b[33mSM_CURRENT_HOST\u001b[39;49;00m\u001b[33m'\u001b[39;49;00m))\n",
      "    \n",
      "    args, _ = parser.parse_known_args()\n",
      "    \n",
      "    MAX_LEN    = args.max_len\n",
      "    N_TAGS     = args.n_tags\n",
      "    N_WORDS    = args.n_words\n",
      "    \n",
      "    EPOCHS     = args.epochs\n",
      "    BATCH_SIZE = args.batch_size\n",
      "    EMBED_DIM = args.embed_dim\n",
      "    HIDDEN_UNITS = args.hidden_units\n",
      "    \n",
      "    MODEL_VER  = args.model_version\n",
      "    MODEL_DIR  = args.model_dir\n",
      "    TRAINING_DIR  = args.training\n",
      "    \n",
      "    \u001b[37m# ----- LOAD DATA -----\u001b[39;49;00m\n",
      "    \u001b[34mprint\u001b[39;49;00m(TRAINING_DIR)\n",
      "    train = pd.read_csv(os.path.join(TRAINING_DIR, \u001b[33m'\u001b[39;49;00m\u001b[33mbilstm_train.csv\u001b[39;49;00m\u001b[33m'\u001b[39;49;00m),\n",
      "                        header=\u001b[36mNone\u001b[39;49;00m,\n",
      "                        names=\u001b[36mNone\u001b[39;49;00m\n",
      "                       )\n",
      "\n",
      "    train_y = train.iloc[:,:-\u001b[34m50\u001b[39;49;00m].values\n",
      "    train_X = train.iloc[:,\u001b[34m50\u001b[39;49;00m:].values\n",
      "    \n",
      "    \u001b[37m# ----- DECLARE MODEL -----\u001b[39;49;00m\n",
      "    model = BiLSTM()\n",
      "    \n",
      "    model.compile(optimizer=\u001b[33m\"\u001b[39;49;00m\u001b[33madam\u001b[39;49;00m\u001b[33m\"\u001b[39;49;00m,\n",
      "                  loss=\u001b[33m\"\u001b[39;49;00m\u001b[33msparse_categorical_crossentropy\u001b[39;49;00m\u001b[33m\"\u001b[39;49;00m)\n",
      "    \n",
      "    \u001b[37m# ----- FIT MODEL -----\u001b[39;49;00m\n",
      "    es = EarlyStopping(monitor=\u001b[33m'\u001b[39;49;00m\u001b[33mval_loss\u001b[39;49;00m\u001b[33m'\u001b[39;49;00m, mode=\u001b[33m'\u001b[39;49;00m\u001b[33mmin\u001b[39;49;00m\u001b[33m'\u001b[39;49;00m, verbose=\u001b[34m1\u001b[39;49;00m, patience = \u001b[34m3\u001b[39;49;00m)\n",
      "    callbacks = LossCallback()\n",
      "    \n",
      "    model.fit(train_X, \n",
      "              train_y.reshape(*train_y.shape, \u001b[34m1\u001b[39;49;00m),\n",
      "              batch_size=BATCH_SIZE,\n",
      "              epochs=EPOCHS,\n",
      "              validation_split=\u001b[34m0.1\u001b[39;49;00m,\n",
      "              verbose=\u001b[34m2\u001b[39;49;00m,\n",
      "              callbacks=[callbacks, es]\n",
      "             )\n",
      "    \n",
      "    \u001b[37m# ----- SAVE MODEL -----\u001b[39;49;00m\n",
      "    model.save(os.path.join(MODEL_DIR,\u001b[33m'\u001b[39;49;00m\u001b[33mbi_lstm\u001b[39;49;00m\u001b[33m'\u001b[39;49;00m,MODEL_VER),\n",
      "               save_format=\u001b[33m'\u001b[39;49;00m\u001b[33mtf\u001b[39;49;00m\u001b[33m'\u001b[39;49;00m)\n"
     ]
    }
   ],
   "source": [
    "! pygmentize models/train_bilstm.py"
   ]
  },
  {
   "cell_type": "markdown",
   "metadata": {},
   "source": [
    "### Define hyperparameters"
   ]
  },
  {
   "cell_type": "code",
   "execution_count": 14,
   "metadata": {},
   "outputs": [],
   "source": [
    "hyperparameters={\n",
    "    'epochs': 20,\n",
    "    'batch-size': 32,\n",
    "    'embed-dim': 64,\n",
    "    'hidden-units': 128,\n",
    "    'max-len': constants['MAX_LEN'],\n",
    "    'n-tags': constants['N_TAGS'],\n",
    "    'n-words': constants['N_WORDS'],\n",
    "    'model-version': '1'\n",
    "}"
   ]
  },
  {
   "cell_type": "markdown",
   "metadata": {},
   "source": [
    "### Declare estimator and train the model"
   ]
  },
  {
   "cell_type": "code",
   "execution_count": 15,
   "metadata": {},
   "outputs": [],
   "source": [
    "tf_estimator = TensorFlow(entry_point='train_bilstm.py', \n",
    "                          source_dir=\"models\",\n",
    "                          role=role,\n",
    "                          train_instance_count=1, \n",
    "                          train_instance_type='ml.p2.xlarge',\n",
    "                          framework_version='2.1.0', \n",
    "                          py_version='py3',\n",
    "                          script_mode=True,\n",
    "                          hyperparameters=hyperparameters\n",
    "                         )"
   ]
  },
  {
   "cell_type": "code",
   "execution_count": 16,
   "metadata": {},
   "outputs": [
    {
     "name": "stdout",
     "output_type": "stream",
     "text": [
      "2020-05-29 19:35:10 Starting - Starting the training job...\n",
      "2020-05-29 19:35:13 Starting - Launching requested ML instances......\n",
      "2020-05-29 19:36:19 Starting - Preparing the instances for training......\n",
      "2020-05-29 19:37:36 Downloading - Downloading input data......\n",
      "2020-05-29 19:38:24 Training - Downloading the training image...\n",
      "2020-05-29 19:39:07 Training - Training image download completed. Training in progress...\u001b[34m2020-05-29 19:39:12,214 sagemaker-containers INFO     Imported framework sagemaker_tensorflow_container.training\u001b[0m\n",
      "\u001b[34m2020-05-29 19:39:12,712 sagemaker-containers INFO     Invoking user script\n",
      "\u001b[0m\n",
      "\u001b[34mTraining Env:\n",
      "\u001b[0m\n",
      "\u001b[34m{\n",
      "    \"additional_framework_parameters\": {},\n",
      "    \"channel_input_dirs\": {\n",
      "        \"training\": \"/opt/ml/input/data/training\"\n",
      "    },\n",
      "    \"current_host\": \"algo-1\",\n",
      "    \"framework_module\": \"sagemaker_tensorflow_container.training:main\",\n",
      "    \"hosts\": [\n",
      "        \"algo-1\"\n",
      "    ],\n",
      "    \"hyperparameters\": {\n",
      "        \"embed-dim\": 64,\n",
      "        \"batch-size\": 32,\n",
      "        \"max-len\": 50,\n",
      "        \"n-words\": 35178,\n",
      "        \"hidden-units\": 128,\n",
      "        \"model_dir\": \"s3://sagemaker-eu-west-1-087816224558/tensorflow-training-2020-05-29-19-35-10-455/model\",\n",
      "        \"model-version\": \"1\",\n",
      "        \"epochs\": 20,\n",
      "        \"n-tags\": 17\n",
      "    },\n",
      "    \"input_config_dir\": \"/opt/ml/input/config\",\n",
      "    \"input_data_config\": {\n",
      "        \"training\": {\n",
      "            \"TrainingInputMode\": \"File\",\n",
      "            \"S3DistributionType\": \"FullyReplicated\",\n",
      "            \"RecordWrapperType\": \"None\"\n",
      "        }\n",
      "    },\n",
      "    \"input_dir\": \"/opt/ml/input\",\n",
      "    \"is_master\": true,\n",
      "    \"job_name\": \"tensorflow-training-2020-05-29-19-35-10-455\",\n",
      "    \"log_level\": 20,\n",
      "    \"master_hostname\": \"algo-1\",\n",
      "    \"model_dir\": \"/opt/ml/model\",\n",
      "    \"module_dir\": \"s3://sagemaker-eu-west-1-087816224558/tensorflow-training-2020-05-29-19-35-10-455/source/sourcedir.tar.gz\",\n",
      "    \"module_name\": \"train_bilstm\",\n",
      "    \"network_interface_name\": \"eth0\",\n",
      "    \"num_cpus\": 4,\n",
      "    \"num_gpus\": 1,\n",
      "    \"output_data_dir\": \"/opt/ml/output/data\",\n",
      "    \"output_dir\": \"/opt/ml/output\",\n",
      "    \"output_intermediate_dir\": \"/opt/ml/output/intermediate\",\n",
      "    \"resource_config\": {\n",
      "        \"current_host\": \"algo-1\",\n",
      "        \"hosts\": [\n",
      "            \"algo-1\"\n",
      "        ],\n",
      "        \"network_interface_name\": \"eth0\"\n",
      "    },\n",
      "    \"user_entry_point\": \"train_bilstm.py\"\u001b[0m\n",
      "\u001b[34m}\n",
      "\u001b[0m\n",
      "\u001b[34mEnvironment variables:\n",
      "\u001b[0m\n",
      "\u001b[34mSM_HOSTS=[\"algo-1\"]\u001b[0m\n",
      "\u001b[34mSM_NETWORK_INTERFACE_NAME=eth0\u001b[0m\n",
      "\u001b[34mSM_HPS={\"batch-size\":32,\"embed-dim\":64,\"epochs\":20,\"hidden-units\":128,\"max-len\":50,\"model-version\":\"1\",\"model_dir\":\"s3://sagemaker-eu-west-1-087816224558/tensorflow-training-2020-05-29-19-35-10-455/model\",\"n-tags\":17,\"n-words\":35178}\u001b[0m\n",
      "\u001b[34mSM_USER_ENTRY_POINT=train_bilstm.py\u001b[0m\n",
      "\u001b[34mSM_FRAMEWORK_PARAMS={}\u001b[0m\n",
      "\u001b[34mSM_RESOURCE_CONFIG={\"current_host\":\"algo-1\",\"hosts\":[\"algo-1\"],\"network_interface_name\":\"eth0\"}\u001b[0m\n",
      "\u001b[34mSM_INPUT_DATA_CONFIG={\"training\":{\"RecordWrapperType\":\"None\",\"S3DistributionType\":\"FullyReplicated\",\"TrainingInputMode\":\"File\"}}\u001b[0m\n",
      "\u001b[34mSM_OUTPUT_DATA_DIR=/opt/ml/output/data\u001b[0m\n",
      "\u001b[34mSM_CHANNELS=[\"training\"]\u001b[0m\n",
      "\u001b[34mSM_CURRENT_HOST=algo-1\u001b[0m\n",
      "\u001b[34mSM_MODULE_NAME=train_bilstm\u001b[0m\n",
      "\u001b[34mSM_LOG_LEVEL=20\u001b[0m\n",
      "\u001b[34mSM_FRAMEWORK_MODULE=sagemaker_tensorflow_container.training:main\u001b[0m\n",
      "\u001b[34mSM_INPUT_DIR=/opt/ml/input\u001b[0m\n",
      "\u001b[34mSM_INPUT_CONFIG_DIR=/opt/ml/input/config\u001b[0m\n",
      "\u001b[34mSM_OUTPUT_DIR=/opt/ml/output\u001b[0m\n",
      "\u001b[34mSM_NUM_CPUS=4\u001b[0m\n",
      "\u001b[34mSM_NUM_GPUS=1\u001b[0m\n",
      "\u001b[34mSM_MODEL_DIR=/opt/ml/model\u001b[0m\n",
      "\u001b[34mSM_MODULE_DIR=s3://sagemaker-eu-west-1-087816224558/tensorflow-training-2020-05-29-19-35-10-455/source/sourcedir.tar.gz\u001b[0m\n",
      "\u001b[34mSM_TRAINING_ENV={\"additional_framework_parameters\":{},\"channel_input_dirs\":{\"training\":\"/opt/ml/input/data/training\"},\"current_host\":\"algo-1\",\"framework_module\":\"sagemaker_tensorflow_container.training:main\",\"hosts\":[\"algo-1\"],\"hyperparameters\":{\"batch-size\":32,\"embed-dim\":64,\"epochs\":20,\"hidden-units\":128,\"max-len\":50,\"model-version\":\"1\",\"model_dir\":\"s3://sagemaker-eu-west-1-087816224558/tensorflow-training-2020-05-29-19-35-10-455/model\",\"n-tags\":17,\"n-words\":35178},\"input_config_dir\":\"/opt/ml/input/config\",\"input_data_config\":{\"training\":{\"RecordWrapperType\":\"None\",\"S3DistributionType\":\"FullyReplicated\",\"TrainingInputMode\":\"File\"}},\"input_dir\":\"/opt/ml/input\",\"is_master\":true,\"job_name\":\"tensorflow-training-2020-05-29-19-35-10-455\",\"log_level\":20,\"master_hostname\":\"algo-1\",\"model_dir\":\"/opt/ml/model\",\"module_dir\":\"s3://sagemaker-eu-west-1-087816224558/tensorflow-training-2020-05-29-19-35-10-455/source/sourcedir.tar.gz\",\"module_name\":\"train_bilstm\",\"network_interface_name\":\"eth0\",\"num_cpus\":4,\"num_gpus\":1,\"output_data_dir\":\"/opt/ml/output/data\",\"output_dir\":\"/opt/ml/output\",\"output_intermediate_dir\":\"/opt/ml/output/intermediate\",\"resource_config\":{\"current_host\":\"algo-1\",\"hosts\":[\"algo-1\"],\"network_interface_name\":\"eth0\"},\"user_entry_point\":\"train_bilstm.py\"}\u001b[0m\n",
      "\u001b[34mSM_USER_ARGS=[\"--batch-size\",\"32\",\"--embed-dim\",\"64\",\"--epochs\",\"20\",\"--hidden-units\",\"128\",\"--max-len\",\"50\",\"--model-version\",\"1\",\"--model_dir\",\"s3://sagemaker-eu-west-1-087816224558/tensorflow-training-2020-05-29-19-35-10-455/model\",\"--n-tags\",\"17\",\"--n-words\",\"35178\"]\u001b[0m\n",
      "\u001b[34mSM_OUTPUT_INTERMEDIATE_DIR=/opt/ml/output/intermediate\u001b[0m\n",
      "\u001b[34mSM_CHANNEL_TRAINING=/opt/ml/input/data/training\u001b[0m\n",
      "\u001b[34mSM_HP_EMBED-DIM=64\u001b[0m\n",
      "\u001b[34mSM_HP_BATCH-SIZE=32\u001b[0m\n",
      "\u001b[34mSM_HP_MAX-LEN=50\u001b[0m\n",
      "\u001b[34mSM_HP_N-WORDS=35178\u001b[0m\n",
      "\u001b[34mSM_HP_HIDDEN-UNITS=128\u001b[0m\n",
      "\u001b[34mSM_HP_MODEL_DIR=s3://sagemaker-eu-west-1-087816224558/tensorflow-training-2020-05-29-19-35-10-455/model\u001b[0m\n",
      "\u001b[34mSM_HP_MODEL-VERSION=1\u001b[0m\n",
      "\u001b[34mSM_HP_EPOCHS=20\u001b[0m\n",
      "\u001b[34mSM_HP_N-TAGS=17\u001b[0m\n",
      "\u001b[34mPYTHONPATH=/opt/ml/code:/usr/local/bin:/usr/lib/python36.zip:/usr/lib/python3.6:/usr/lib/python3.6/lib-dynload:/usr/local/lib/python3.6/dist-packages:/usr/lib/python3/dist-packages\n",
      "\u001b[0m\n",
      "\u001b[34mInvoking script with the following command:\n",
      "\u001b[0m\n",
      "\u001b[34m/usr/bin/python3 train_bilstm.py --batch-size 32 --embed-dim 64 --epochs 20 --hidden-units 128 --max-len 50 --model-version 1 --model_dir s3://sagemaker-eu-west-1-087816224558/tensorflow-training-2020-05-29-19-35-10-455/model --n-tags 17 --n-words 35178\n",
      "\n",
      "\u001b[0m\n",
      "\u001b[34m/opt/ml/input/data/training\u001b[0m\n",
      "\u001b[34m[2020-05-29 19:39:15.606 ip-10-0-184-26.eu-west-1.compute.internal:24 INFO json_config.py:90] Creating hook from json_config at /opt/ml/input/config/debughookconfig.json.\u001b[0m\n",
      "\u001b[34m[2020-05-29 19:39:15.607 ip-10-0-184-26.eu-west-1.compute.internal:24 INFO hook.py:183] tensorboard_dir has not been set for the hook. SMDebug will not be exporting tensorboard summaries.\u001b[0m\n",
      "\u001b[34m[2020-05-29 19:39:15.607 ip-10-0-184-26.eu-west-1.compute.internal:24 INFO hook.py:228] Saving to /opt/ml/output/tensors\u001b[0m\n",
      "\u001b[34mTrain on 38846 samples, validate on 4317 samples\u001b[0m\n",
      "\u001b[34m[2020-05-29 19:39:18.906 ip-10-0-184-26.eu-west-1.compute.internal:24 INFO keras.py:68] Executing in TF2.x eager mode.TF 2.x eager doesn't provide gradient and optimizer variable values.SageMaker Debugger will not be saving gradients and optimizer variables in this case\u001b[0m\n",
      "\u001b[34mEpoch 1/20\u001b[0m\n",
      "\u001b[34m[2020-05-29 19:39:18.917 ip-10-0-184-26.eu-west-1.compute.internal:24 INFO hook.py:364] Monitoring the collections: metrics, sm_metrics, losses\u001b[0m\n",
      "\u001b[34mERROR:root:'NoneType' object has no attribute 'write'\u001b[0m\n",
      "\u001b[34m38846/38846 - 48s - loss: 0.1659 - val_loss: 0.0730\u001b[0m\n",
      "\u001b[34mEpoch 2/20\u001b[0m\n",
      "\u001b[34m38846/38846 - 42s - loss: 0.0624 - val_loss: 0.0610\u001b[0m\n",
      "\u001b[34mEpoch 3/20\u001b[0m\n",
      "\u001b[34m38846/38846 - 41s - loss: 0.0533 - val_loss: 0.0577\u001b[0m\n",
      "\u001b[34mEpoch 4/20\u001b[0m\n",
      "\u001b[34m38846/38846 - 41s - loss: 0.0489 - val_loss: 0.0569\u001b[0m\n",
      "\u001b[34mEpoch 5/20\u001b[0m\n",
      "\u001b[34m38846/38846 - 42s - loss: 0.0460 - val_loss: 0.0556\u001b[0m\n",
      "\u001b[34mEpoch 6/20\u001b[0m\n",
      "\u001b[34m38846/38846 - 41s - loss: 0.0434 - val_loss: 0.0572\u001b[0m\n",
      "\u001b[34mEpoch 7/20\u001b[0m\n",
      "\u001b[34m38846/38846 - 41s - loss: 0.0413 - val_loss: 0.0559\u001b[0m\n",
      "\u001b[34mEpoch 8/20\u001b[0m\n",
      "\u001b[34m38846/38846 - 42s - loss: 0.0391 - val_loss: 0.0574\u001b[0m\n",
      "\u001b[34mEpoch 00008: early stopping\u001b[0m\n",
      "\u001b[34m2020-05-29 19:45:02.957509: W tensorflow/python/util/util.cc:319] Sets are not currently considered sequences, but this may change in the future, so consider avoiding using them.\u001b[0m\n",
      "\u001b[34mWARNING:tensorflow:From /usr/local/lib/python3.6/dist-packages/tensorflow_core/python/ops/resource_variable_ops.py:1786: calling BaseResourceVariable.__init__ (from tensorflow.python.ops.resource_variable_ops) with constraint is deprecated and will be removed in a future version.\u001b[0m\n",
      "\u001b[34mInstructions for updating:\u001b[0m\n",
      "\u001b[34mIf using Keras pass *_constraint arguments to layers.\u001b[0m\n",
      "\u001b[34mWARNING:tensorflow:From /usr/local/lib/python3.6/dist-packages/tensorflow_core/python/ops/resource_variable_ops.py:1786: calling BaseResourceVariable.__init__ (from tensorflow.python.ops.resource_variable_ops) with constraint is deprecated and will be removed in a future version.\u001b[0m\n",
      "\u001b[34mInstructions for updating:\u001b[0m\n",
      "\u001b[34mIf using Keras pass *_constraint arguments to layers.\u001b[0m\n",
      "\u001b[34mINFO:tensorflow:Assets written to: /opt/ml/model/bi_lstm/1/assets\u001b[0m\n",
      "\u001b[34mINFO:tensorflow:Assets written to: /opt/ml/model/bi_lstm/1/assets\u001b[0m\n",
      "\u001b[34m[2020-05-29 19:45:09.646 ip-10-0-184-26.eu-west-1.compute.internal:24 INFO utils.py:25] The end of training job file will not be written for jobs running under SageMaker.\u001b[0m\n",
      "\u001b[34m2020-05-29 19:45:11,950 sagemaker-containers INFO     Reporting training SUCCESS\u001b[0m\n",
      "\n",
      "2020-05-29 19:45:24 Uploading - Uploading generated training model\n",
      "2020-05-29 19:45:24 Completed - Training job completed\n",
      "Training seconds: 468\n",
      "Billable seconds: 468\n"
     ]
    }
   ],
   "source": [
    "tf_estimator.fit({'training': data_directories['train_data_directory']})"
   ]
  },
  {
   "cell_type": "markdown",
   "metadata": {},
   "source": [
    "## Deploy model"
   ]
  },
  {
   "cell_type": "code",
   "execution_count": 17,
   "metadata": {},
   "outputs": [
    {
     "name": "stdout",
     "output_type": "stream",
     "text": [
      "-------------!"
     ]
    }
   ],
   "source": [
    "tf_predictor = tf_estimator.deploy(initial_instance_count=1,\n",
    "                                   instance_type='ml.m4.xlarge',\n",
    "                                   endpoint_name='ner-bartek-111')"
   ]
  },
  {
   "cell_type": "code",
   "execution_count": 20,
   "metadata": {},
   "outputs": [
    {
     "data": {
      "text/plain": [
       "'tensorflow-training-2020-05-29-19-35-10-455'"
      ]
     },
     "execution_count": 20,
     "metadata": {},
     "output_type": "execute_result"
    }
   ],
   "source": [
    "tf_predictor.endpoint"
   ]
  },
  {
   "cell_type": "markdown",
   "metadata": {},
   "source": [
    "## Clean up"
   ]
  },
  {
   "cell_type": "code",
   "execution_count": null,
   "metadata": {},
   "outputs": [],
   "source": [
    "tf_predictor.delete_endpoint()"
   ]
  },
  {
   "cell_type": "code",
   "execution_count": null,
   "metadata": {},
   "outputs": [],
   "source": [
    "# import boto3\n",
    "# bucket_to_delete = boto3.resource('s3').Bucket(bucket)\n",
    "# bucket_to_delete.objects.all().delete()"
   ]
  }
 ],
 "metadata": {
  "kernelspec": {
   "display_name": "conda_amazonei_tensorflow_p36",
   "language": "python",
   "name": "conda_amazonei_tensorflow_p36"
  },
  "language_info": {
   "codemirror_mode": {
    "name": "ipython",
    "version": 3
   },
   "file_extension": ".py",
   "mimetype": "text/x-python",
   "name": "python",
   "nbconvert_exporter": "python",
   "pygments_lexer": "ipython3",
   "version": "3.6.6"
  }
 },
 "nbformat": 4,
 "nbformat_minor": 4
}

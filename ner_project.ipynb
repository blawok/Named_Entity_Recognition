{
 "cells": [
  {
   "cell_type": "code",
   "execution_count": 1,
   "metadata": {},
   "outputs": [
    {
     "name": "stderr",
     "output_type": "stream",
     "text": [
      "Using TensorFlow backend.\n"
     ]
    }
   ],
   "source": [
    "import pandas as pd\n",
    "import numpy as np\n",
    "import os\n",
    "import sagemaker\n",
    "import tensorflow as tf\n",
    "\n",
    "from collections import Counter\n",
    "from keras.preprocessing.sequence import pad_sequences\n",
    "from sklearn.model_selection import train_test_split\n",
    "from sagemaker.tensorflow import TensorFlow"
   ]
  },
  {
   "cell_type": "markdown",
   "metadata": {},
   "source": [
    "## Initial data load"
   ]
  },
  {
   "cell_type": "code",
   "execution_count": 3,
   "metadata": {},
   "outputs": [],
   "source": [
    "data = pd.read_csv(\"data/ner_dataset.csv\", encoding=\"latin1\").fillna(method=\"ffill\")\n",
    "# data.tail(10)"
   ]
  },
  {
   "cell_type": "markdown",
   "metadata": {},
   "source": [
    "## Preprocessing"
   ]
  },
  {
   "cell_type": "code",
   "execution_count": 4,
   "metadata": {},
   "outputs": [
    {
     "data": {
      "text/plain": [
       "35178"
      ]
     },
     "execution_count": 4,
     "metadata": {},
     "output_type": "execute_result"
    }
   ],
   "source": [
    "words = list(set(data[\"Word\"].values))\n",
    "n_words = len(words); n_words"
   ]
  },
  {
   "cell_type": "code",
   "execution_count": 5,
   "metadata": {},
   "outputs": [
    {
     "data": {
      "text/plain": [
       "17"
      ]
     },
     "execution_count": 5,
     "metadata": {},
     "output_type": "execute_result"
    }
   ],
   "source": [
    "tags = list(set(data[\"Tag\"].values))\n",
    "n_tags = len(tags); n_tags"
   ]
  },
  {
   "cell_type": "code",
   "execution_count": 6,
   "metadata": {},
   "outputs": [],
   "source": [
    "class SentenceGetter(object):\n",
    "    \n",
    "    def __init__(self, data):\n",
    "        self.n_sent = 1\n",
    "        self.data = data\n",
    "        self.empty = False\n",
    "        agg_func = lambda s: [(w, p, t) for w, p, t in zip(s[\"Word\"].values.tolist(),\n",
    "                                                           s[\"POS\"].values.tolist(),\n",
    "                                                           s[\"Tag\"].values.tolist())]\n",
    "        self.grouped = self.data.groupby(\"Sentence #\").apply(agg_func)\n",
    "        self.sentences = [s for s in self.grouped]\n",
    "    \n",
    "    def get_next(self):\n",
    "        try:\n",
    "            s = self.grouped[\"Sentence: {}\".format(self.n_sent)]\n",
    "            self.n_sent += 1\n",
    "            return s\n",
    "        except:\n",
    "            return None"
   ]
  },
  {
   "cell_type": "code",
   "execution_count": 7,
   "metadata": {},
   "outputs": [],
   "source": [
    "getter = SentenceGetter(data)\n",
    "sentences = getter.sentences\n",
    "\n",
    "labels = [[s[2] for s in sent] for sent in sentences]\n",
    "sentences = [\" \".join([s[0] for s in sent]) for sent in sentences]"
   ]
  },
  {
   "cell_type": "code",
   "execution_count": 8,
   "metadata": {},
   "outputs": [],
   "source": [
    "word_cnt = Counter(data[\"Word\"].values)\n",
    "vocabulary = set(w[0] for w in word_cnt.most_common(5000))\n",
    "\n",
    "max_len = 50\n",
    "word2idx = {\"PAD\": 0, \"UNK\": 1}\n",
    "word2idx.update({w: i for i, w in enumerate(words) if w in vocabulary})\n",
    "tag2idx = {t: i for i, t in enumerate(tags)}\n",
    "\n",
    "X = [[word2idx.get(w, word2idx[\"UNK\"]) for w in s.split()] for s in sentences]\n",
    "\n",
    "X = pad_sequences(maxlen=max_len, sequences=X, padding=\"post\", value=word2idx[\"PAD\"])\n",
    "\n",
    "y = [[tag2idx[l_i] for l_i in l] for l in labels]\n",
    "\n",
    "y = pad_sequences(maxlen=max_len, sequences=y, padding=\"post\", value=tag2idx[\"O\"])"
   ]
  },
  {
   "cell_type": "markdown",
   "metadata": {},
   "source": [
    "## Train-test split"
   ]
  },
  {
   "cell_type": "code",
   "execution_count": 9,
   "metadata": {},
   "outputs": [],
   "source": [
    "X_tr, X_te, y_tr, y_te = train_test_split(X, y, test_size=0.1, shuffle=True, random_state=666)"
   ]
  },
  {
   "cell_type": "markdown",
   "metadata": {},
   "source": [
    "## Upload data to S3"
   ]
  },
  {
   "cell_type": "code",
   "execution_count": 10,
   "metadata": {},
   "outputs": [],
   "source": [
    "sagemaker_session = sagemaker.Session()\n",
    "role = sagemaker.get_execution_role()\n",
    "bucket = sagemaker_session.default_bucket()\n",
    "\n",
    "prefix = 'named_entity_recognition/data'\n",
    "data_dir = 'data'"
   ]
  },
  {
   "cell_type": "code",
   "execution_count": 11,
   "metadata": {},
   "outputs": [],
   "source": [
    "pd.concat([pd.DataFrame(y_tr), pd.DataFrame(X_tr)], axis=1).to_csv(os.path.join(data_dir, 'train.csv'), header=False, index=False)"
   ]
  },
  {
   "cell_type": "code",
   "execution_count": 12,
   "metadata": {},
   "outputs": [],
   "source": [
    "input_data = sagemaker_session.upload_data(path=data_dir, bucket=bucket, key_prefix=prefix)"
   ]
  },
  {
   "cell_type": "markdown",
   "metadata": {},
   "source": [
    "## Model using GPU instance"
   ]
  },
  {
   "cell_type": "code",
   "execution_count": 53,
   "metadata": {},
   "outputs": [
    {
     "name": "stdout",
     "output_type": "stream",
     "text": [
      "\u001b[34mimport\u001b[39;49;00m \u001b[04m\u001b[36margparse\u001b[39;49;00m, \u001b[04m\u001b[36mos\u001b[39;49;00m\n",
      "\u001b[34mimport\u001b[39;49;00m \u001b[04m\u001b[36mnumpy\u001b[39;49;00m \u001b[34mas\u001b[39;49;00m \u001b[04m\u001b[36mnp\u001b[39;49;00m\n",
      "\u001b[34mimport\u001b[39;49;00m \u001b[04m\u001b[36mpandas\u001b[39;49;00m \u001b[34mas\u001b[39;49;00m \u001b[04m\u001b[36mpd\u001b[39;49;00m\n",
      "\u001b[34mimport\u001b[39;49;00m \u001b[04m\u001b[36mjson\u001b[39;49;00m\n",
      "\n",
      "\u001b[34mimport\u001b[39;49;00m \u001b[04m\u001b[36mtensorflow\u001b[39;49;00m \u001b[34mas\u001b[39;49;00m \u001b[04m\u001b[36mtf\u001b[39;49;00m\n",
      "\u001b[34mfrom\u001b[39;49;00m \u001b[04m\u001b[36mtensorflow.keras.models\u001b[39;49;00m \u001b[34mimport\u001b[39;49;00m Sequential\n",
      "\u001b[34mfrom\u001b[39;49;00m \u001b[04m\u001b[36mtensorflow.keras.layers\u001b[39;49;00m \u001b[34mimport\u001b[39;49;00m LSTM, Embedding, Dense, TimeDistributed, SpatialDropout1D, Bidirectional\n",
      "\n",
      "\n",
      "\u001b[34mif\u001b[39;49;00m \u001b[31m__name__\u001b[39;49;00m == \u001b[33m'\u001b[39;49;00m\u001b[33m__main__\u001b[39;49;00m\u001b[33m'\u001b[39;49;00m:\n",
      "        \n",
      "    parser = argparse.ArgumentParser()\n",
      "\n",
      "    parser.add_argument(\u001b[33m'\u001b[39;49;00m\u001b[33m--epochs\u001b[39;49;00m\u001b[33m'\u001b[39;49;00m, \u001b[36mtype\u001b[39;49;00m=\u001b[36mint\u001b[39;49;00m, default=\u001b[34m5\u001b[39;49;00m)\n",
      "    parser.add_argument(\u001b[33m'\u001b[39;49;00m\u001b[33m--batch-size\u001b[39;49;00m\u001b[33m'\u001b[39;49;00m, \u001b[36mtype\u001b[39;49;00m=\u001b[36mint\u001b[39;49;00m, default=\u001b[34m32\u001b[39;49;00m)\n",
      "    \n",
      "    parser.add_argument(\u001b[33m'\u001b[39;49;00m\u001b[33m--max-len\u001b[39;49;00m\u001b[33m'\u001b[39;49;00m, \u001b[36mtype\u001b[39;49;00m=\u001b[36mint\u001b[39;49;00m, default=\u001b[34m50\u001b[39;49;00m)\n",
      "    parser.add_argument(\u001b[33m'\u001b[39;49;00m\u001b[33m--n-tags\u001b[39;49;00m\u001b[33m'\u001b[39;49;00m, \u001b[36mtype\u001b[39;49;00m=\u001b[36mint\u001b[39;49;00m, default=\u001b[34m17\u001b[39;49;00m)\n",
      "    parser.add_argument(\u001b[33m'\u001b[39;49;00m\u001b[33m--n-words\u001b[39;49;00m\u001b[33m'\u001b[39;49;00m, \u001b[36mtype\u001b[39;49;00m=\u001b[36mint\u001b[39;49;00m, default=\u001b[34m35178\u001b[39;49;00m)   \n",
      "    \n",
      "    parser.add_argument(\u001b[33m'\u001b[39;49;00m\u001b[33m--model-dir\u001b[39;49;00m\u001b[33m'\u001b[39;49;00m, \u001b[36mtype\u001b[39;49;00m=\u001b[36mstr\u001b[39;49;00m, default=os.environ[\u001b[33m'\u001b[39;49;00m\u001b[33mSM_MODEL_DIR\u001b[39;49;00m\u001b[33m'\u001b[39;49;00m])\n",
      "    parser.add_argument(\u001b[33m'\u001b[39;49;00m\u001b[33m--training\u001b[39;49;00m\u001b[33m'\u001b[39;49;00m, \u001b[36mtype\u001b[39;49;00m=\u001b[36mstr\u001b[39;49;00m, default=os.environ[\u001b[33m'\u001b[39;49;00m\u001b[33mSM_CHANNEL_TRAINING\u001b[39;49;00m\u001b[33m'\u001b[39;49;00m])\n",
      "    parser.add_argument(\u001b[33m'\u001b[39;49;00m\u001b[33m--hosts\u001b[39;49;00m\u001b[33m'\u001b[39;49;00m, \u001b[36mtype\u001b[39;49;00m=\u001b[36mlist\u001b[39;49;00m, default=json.loads(os.environ.get(\u001b[33m'\u001b[39;49;00m\u001b[33mSM_HOSTS\u001b[39;49;00m\u001b[33m'\u001b[39;49;00m)))\n",
      "    parser.add_argument(\u001b[33m'\u001b[39;49;00m\u001b[33m--current-host\u001b[39;49;00m\u001b[33m'\u001b[39;49;00m, \u001b[36mtype\u001b[39;49;00m=\u001b[36mstr\u001b[39;49;00m, default=os.environ.get(\u001b[33m'\u001b[39;49;00m\u001b[33mSM_CURRENT_HOST\u001b[39;49;00m\u001b[33m'\u001b[39;49;00m))\n",
      "    \n",
      "    args, _ = parser.parse_known_args()\n",
      "    \n",
      "    max_len    = args.max_len\n",
      "    n_tags     = args.n_tags\n",
      "    n_words    = args.n_words\n",
      "    epochs     = args.epochs\n",
      "    batch_size = args.batch_size\n",
      "    model_dir  = args.model_dir\n",
      "    training_dir   = args.training\n",
      "    \n",
      "    \u001b[37m# ----- LOAD DATA -----\u001b[39;49;00m\n",
      "    train_sample = pd.read_csv(os.path.join(training_dir, \u001b[33m'\u001b[39;49;00m\u001b[33mtrain.csv\u001b[39;49;00m\u001b[33m'\u001b[39;49;00m),\n",
      "                               header=\u001b[36mNone\u001b[39;49;00m,\n",
      "                               names=\u001b[36mNone\u001b[39;49;00m,\n",
      "                               nrows=\u001b[34m1024\u001b[39;49;00m\n",
      "                              )\n",
      "\n",
      "    train_sample_y = train_sample.iloc[:,:-\u001b[34m50\u001b[39;49;00m].values\n",
      "    train_sample_X = train_sample.iloc[:,\u001b[34m50\u001b[39;49;00m:].values\n",
      "    \n",
      "    \u001b[37m# ----- DECLARE MODEL -----\u001b[39;49;00m\n",
      "    model = Sequential([\n",
      "\n",
      "        Embedding(input_dim=n_words, output_dim=\u001b[34m50\u001b[39;49;00m, input_length=max_len),\n",
      "        SpatialDropout1D(\u001b[34m0.1\u001b[39;49;00m),\n",
      "\n",
      "        Bidirectional(LSTM(units=\u001b[34m100\u001b[39;49;00m, return_sequences=\u001b[36mTrue\u001b[39;49;00m)),\n",
      "        TimeDistributed(Dense(n_tags, activation=\u001b[33m\"\u001b[39;49;00m\u001b[33msoftmax\u001b[39;49;00m\u001b[33m\"\u001b[39;49;00m))\n",
      "    ])\n",
      "    \n",
      "    model.compile(optimizer=\u001b[33m\"\u001b[39;49;00m\u001b[33madam\u001b[39;49;00m\u001b[33m\"\u001b[39;49;00m,\n",
      "                  loss=\u001b[33m\"\u001b[39;49;00m\u001b[33msparse_categorical_crossentropy\u001b[39;49;00m\u001b[33m\"\u001b[39;49;00m)\n",
      "    \n",
      "    model.fit(train_sample_X, \n",
      "              train_sample_y.reshape(*train_sample_y.shape, \u001b[34m1\u001b[39;49;00m),\n",
      "              batch_size=batch_size,\n",
      "              epochs=epochs,\n",
      "              validation_split=\u001b[34m0.1\u001b[39;49;00m,\n",
      "              verbose=\u001b[34m2\u001b[39;49;00m)\n",
      "    \n",
      "    model.save(os.path.join(model_dir,\u001b[33m'\u001b[39;49;00m\u001b[33mbi_lstm/1\u001b[39;49;00m\u001b[33m'\u001b[39;49;00m), save_format=\u001b[33m'\u001b[39;49;00m\u001b[33mtf\u001b[39;49;00m\u001b[33m'\u001b[39;49;00m)\n"
     ]
    }
   ],
   "source": [
    "! pygmentize train/train_bilstm.py"
   ]
  },
  {
   "cell_type": "code",
   "execution_count": 26,
   "metadata": {},
   "outputs": [],
   "source": [
    "tf_estimator = TensorFlow(entry_point='train_bilstm.py', \n",
    "                          source_dir=\"train\",\n",
    "#                           model_dir = '/opt/ml/model',\n",
    "                          role=role,\n",
    "                          train_instance_count=1, \n",
    "                          train_instance_type='ml.p2.xlarge',\n",
    "                          framework_version='2.1.0', \n",
    "                          py_version='py3',\n",
    "                          script_mode=True,\n",
    "                          hyperparameters={\n",
    "                              'epochs': 3,\n",
    "                              'batch-size': 32,\n",
    "                              'max-len': max_len,\n",
    "                              'n-tags': n_tags,\n",
    "                              'n-words': n_words\n",
    "                          }\n",
    "                         )"
   ]
  },
  {
   "cell_type": "code",
   "execution_count": 27,
   "metadata": {},
   "outputs": [
    {
     "name": "stdout",
     "output_type": "stream",
     "text": [
      "2020-05-25 17:22:51 Starting - Starting the training job...\n",
      "2020-05-25 17:22:53 Starting - Launching requested ML instances.........\n",
      "2020-05-25 17:24:25 Starting - Preparing the instances for training......\n",
      "2020-05-25 17:25:36 Downloading - Downloading input data...\n",
      "2020-05-25 17:26:19 Training - Downloading the training image......\n",
      "2020-05-25 17:27:08 Training - Training image download completed. Training in progress..\u001b[34m2020-05-25 17:27:13,114 sagemaker-containers INFO     Imported framework sagemaker_tensorflow_container.training\u001b[0m\n",
      "\u001b[34m2020-05-25 17:27:13,784 sagemaker-containers INFO     Invoking user script\n",
      "\u001b[0m\n",
      "\u001b[34mTraining Env:\n",
      "\u001b[0m\n",
      "\u001b[34m{\n",
      "    \"additional_framework_parameters\": {},\n",
      "    \"channel_input_dirs\": {\n",
      "        \"training\": \"/opt/ml/input/data/training\"\n",
      "    },\n",
      "    \"current_host\": \"algo-1\",\n",
      "    \"framework_module\": \"sagemaker_tensorflow_container.training:main\",\n",
      "    \"hosts\": [\n",
      "        \"algo-1\"\n",
      "    ],\n",
      "    \"hyperparameters\": {\n",
      "        \"batch-size\": 32,\n",
      "        \"max-len\": 50,\n",
      "        \"n-words\": 35178,\n",
      "        \"model_dir\": \"s3://sagemaker-eu-west-1-087816224558/tensorflow-training-2020-05-25-17-22-50-737/model\",\n",
      "        \"epochs\": 3,\n",
      "        \"n-tags\": 17\n",
      "    },\n",
      "    \"input_config_dir\": \"/opt/ml/input/config\",\n",
      "    \"input_data_config\": {\n",
      "        \"training\": {\n",
      "            \"TrainingInputMode\": \"File\",\n",
      "            \"S3DistributionType\": \"FullyReplicated\",\n",
      "            \"RecordWrapperType\": \"None\"\n",
      "        }\n",
      "    },\n",
      "    \"input_dir\": \"/opt/ml/input\",\n",
      "    \"is_master\": true,\n",
      "    \"job_name\": \"tensorflow-training-2020-05-25-17-22-50-737\",\n",
      "    \"log_level\": 20,\n",
      "    \"master_hostname\": \"algo-1\",\n",
      "    \"model_dir\": \"/opt/ml/model\",\n",
      "    \"module_dir\": \"s3://sagemaker-eu-west-1-087816224558/tensorflow-training-2020-05-25-17-22-50-737/source/sourcedir.tar.gz\",\n",
      "    \"module_name\": \"train_bilstm\",\n",
      "    \"network_interface_name\": \"eth0\",\n",
      "    \"num_cpus\": 4,\n",
      "    \"num_gpus\": 1,\n",
      "    \"output_data_dir\": \"/opt/ml/output/data\",\n",
      "    \"output_dir\": \"/opt/ml/output\",\n",
      "    \"output_intermediate_dir\": \"/opt/ml/output/intermediate\",\n",
      "    \"resource_config\": {\n",
      "        \"current_host\": \"algo-1\",\n",
      "        \"hosts\": [\n",
      "            \"algo-1\"\n",
      "        ],\n",
      "        \"network_interface_name\": \"eth0\"\n",
      "    },\n",
      "    \"user_entry_point\": \"train_bilstm.py\"\u001b[0m\n",
      "\u001b[34m}\n",
      "\u001b[0m\n",
      "\u001b[34mEnvironment variables:\n",
      "\u001b[0m\n",
      "\u001b[34mSM_HOSTS=[\"algo-1\"]\u001b[0m\n",
      "\u001b[34mSM_NETWORK_INTERFACE_NAME=eth0\u001b[0m\n",
      "\u001b[34mSM_HPS={\"batch-size\":32,\"epochs\":3,\"max-len\":50,\"model_dir\":\"s3://sagemaker-eu-west-1-087816224558/tensorflow-training-2020-05-25-17-22-50-737/model\",\"n-tags\":17,\"n-words\":35178}\u001b[0m\n",
      "\u001b[34mSM_USER_ENTRY_POINT=train_bilstm.py\u001b[0m\n",
      "\u001b[34mSM_FRAMEWORK_PARAMS={}\u001b[0m\n",
      "\u001b[34mSM_RESOURCE_CONFIG={\"current_host\":\"algo-1\",\"hosts\":[\"algo-1\"],\"network_interface_name\":\"eth0\"}\u001b[0m\n",
      "\u001b[34mSM_INPUT_DATA_CONFIG={\"training\":{\"RecordWrapperType\":\"None\",\"S3DistributionType\":\"FullyReplicated\",\"TrainingInputMode\":\"File\"}}\u001b[0m\n",
      "\u001b[34mSM_OUTPUT_DATA_DIR=/opt/ml/output/data\u001b[0m\n",
      "\u001b[34mSM_CHANNELS=[\"training\"]\u001b[0m\n",
      "\u001b[34mSM_CURRENT_HOST=algo-1\u001b[0m\n",
      "\u001b[34mSM_MODULE_NAME=train_bilstm\u001b[0m\n",
      "\u001b[34mSM_LOG_LEVEL=20\u001b[0m\n",
      "\u001b[34mSM_FRAMEWORK_MODULE=sagemaker_tensorflow_container.training:main\u001b[0m\n",
      "\u001b[34mSM_INPUT_DIR=/opt/ml/input\u001b[0m\n",
      "\u001b[34mSM_INPUT_CONFIG_DIR=/opt/ml/input/config\u001b[0m\n",
      "\u001b[34mSM_OUTPUT_DIR=/opt/ml/output\u001b[0m\n",
      "\u001b[34mSM_NUM_CPUS=4\u001b[0m\n",
      "\u001b[34mSM_NUM_GPUS=1\u001b[0m\n",
      "\u001b[34mSM_MODEL_DIR=/opt/ml/model\u001b[0m\n",
      "\u001b[34mSM_MODULE_DIR=s3://sagemaker-eu-west-1-087816224558/tensorflow-training-2020-05-25-17-22-50-737/source/sourcedir.tar.gz\u001b[0m\n",
      "\u001b[34mSM_TRAINING_ENV={\"additional_framework_parameters\":{},\"channel_input_dirs\":{\"training\":\"/opt/ml/input/data/training\"},\"current_host\":\"algo-1\",\"framework_module\":\"sagemaker_tensorflow_container.training:main\",\"hosts\":[\"algo-1\"],\"hyperparameters\":{\"batch-size\":32,\"epochs\":3,\"max-len\":50,\"model_dir\":\"s3://sagemaker-eu-west-1-087816224558/tensorflow-training-2020-05-25-17-22-50-737/model\",\"n-tags\":17,\"n-words\":35178},\"input_config_dir\":\"/opt/ml/input/config\",\"input_data_config\":{\"training\":{\"RecordWrapperType\":\"None\",\"S3DistributionType\":\"FullyReplicated\",\"TrainingInputMode\":\"File\"}},\"input_dir\":\"/opt/ml/input\",\"is_master\":true,\"job_name\":\"tensorflow-training-2020-05-25-17-22-50-737\",\"log_level\":20,\"master_hostname\":\"algo-1\",\"model_dir\":\"/opt/ml/model\",\"module_dir\":\"s3://sagemaker-eu-west-1-087816224558/tensorflow-training-2020-05-25-17-22-50-737/source/sourcedir.tar.gz\",\"module_name\":\"train_bilstm\",\"network_interface_name\":\"eth0\",\"num_cpus\":4,\"num_gpus\":1,\"output_data_dir\":\"/opt/ml/output/data\",\"output_dir\":\"/opt/ml/output\",\"output_intermediate_dir\":\"/opt/ml/output/intermediate\",\"resource_config\":{\"current_host\":\"algo-1\",\"hosts\":[\"algo-1\"],\"network_interface_name\":\"eth0\"},\"user_entry_point\":\"train_bilstm.py\"}\u001b[0m\n",
      "\u001b[34mSM_USER_ARGS=[\"--batch-size\",\"32\",\"--epochs\",\"3\",\"--max-len\",\"50\",\"--model_dir\",\"s3://sagemaker-eu-west-1-087816224558/tensorflow-training-2020-05-25-17-22-50-737/model\",\"--n-tags\",\"17\",\"--n-words\",\"35178\"]\u001b[0m\n",
      "\u001b[34mSM_OUTPUT_INTERMEDIATE_DIR=/opt/ml/output/intermediate\u001b[0m\n",
      "\u001b[34mSM_CHANNEL_TRAINING=/opt/ml/input/data/training\u001b[0m\n",
      "\u001b[34mSM_HP_BATCH-SIZE=32\u001b[0m\n",
      "\u001b[34mSM_HP_MAX-LEN=50\u001b[0m\n",
      "\u001b[34mSM_HP_N-WORDS=35178\u001b[0m\n",
      "\u001b[34mSM_HP_MODEL_DIR=s3://sagemaker-eu-west-1-087816224558/tensorflow-training-2020-05-25-17-22-50-737/model\u001b[0m\n",
      "\u001b[34mSM_HP_EPOCHS=3\u001b[0m\n",
      "\u001b[34mSM_HP_N-TAGS=17\u001b[0m\n",
      "\u001b[34mPYTHONPATH=/opt/ml/code:/usr/local/bin:/usr/lib/python36.zip:/usr/lib/python3.6:/usr/lib/python3.6/lib-dynload:/usr/local/lib/python3.6/dist-packages:/usr/lib/python3/dist-packages\n",
      "\u001b[0m\n",
      "\u001b[34mInvoking script with the following command:\n",
      "\u001b[0m\n",
      "\u001b[34m/usr/bin/python3 train_bilstm.py --batch-size 32 --epochs 3 --max-len 50 --model_dir s3://sagemaker-eu-west-1-087816224558/tensorflow-training-2020-05-25-17-22-50-737/model --n-tags 17 --n-words 35178\n",
      "\n",
      "\u001b[0m\n",
      "\u001b[34m[2020-05-25 17:27:19.250 ip-10-0-236-236.eu-west-1.compute.internal:24 INFO json_config.py:90] Creating hook from json_config at /opt/ml/input/config/debughookconfig.json.\u001b[0m\n",
      "\u001b[34m[2020-05-25 17:27:19.251 ip-10-0-236-236.eu-west-1.compute.internal:24 INFO hook.py:183] tensorboard_dir has not been set for the hook. SMDebug will not be exporting tensorboard summaries.\u001b[0m\n",
      "\u001b[34m[2020-05-25 17:27:19.251 ip-10-0-236-236.eu-west-1.compute.internal:24 INFO hook.py:228] Saving to /opt/ml/output/tensors\u001b[0m\n",
      "\u001b[34mTrain on 921 samples, validate on 103 samples\u001b[0m\n",
      "\u001b[34m[2020-05-25 17:27:19.328 ip-10-0-236-236.eu-west-1.compute.internal:24 INFO keras.py:68] Executing in TF2.x eager mode.TF 2.x eager doesn't provide gradient and optimizer variable values.SageMaker Debugger will not be saving gradients and optimizer variables in this case\u001b[0m\n",
      "\u001b[34mEpoch 1/3\u001b[0m\n",
      "\u001b[34m[2020-05-25 17:27:19.338 ip-10-0-236-236.eu-west-1.compute.internal:24 INFO hook.py:364] Monitoring the collections: metrics, losses, sm_metrics\u001b[0m\n",
      "\u001b[34mERROR:root:'NoneType' object has no attribute 'write'\u001b[0m\n",
      "\u001b[34m921/921 - 7s - loss: 1.1615 - val_loss: 0.3768\u001b[0m\n",
      "\u001b[34mEpoch 2/3\u001b[0m\n",
      "\u001b[34m921/921 - 1s - loss: 0.3747 - val_loss: 0.3220\u001b[0m\n",
      "\u001b[34mEpoch 3/3\u001b[0m\n",
      "\u001b[34m921/921 - 1s - loss: 0.3311 - val_loss: 0.2972\u001b[0m\n",
      "\u001b[34m2020-05-25 17:27:33.339793: W tensorflow/python/util/util.cc:319] Sets are not currently considered sequences, but this may change in the future, so consider avoiding using them.\u001b[0m\n",
      "\u001b[34mWARNING:tensorflow:From /usr/local/lib/python3.6/dist-packages/tensorflow_core/python/ops/resource_variable_ops.py:1786: calling BaseResourceVariable.__init__ (from tensorflow.python.ops.resource_variable_ops) with constraint is deprecated and will be removed in a future version.\u001b[0m\n",
      "\u001b[34mInstructions for updating:\u001b[0m\n",
      "\u001b[34mIf using Keras pass *_constraint arguments to layers.\u001b[0m\n",
      "\u001b[34mWARNING:tensorflow:From /usr/local/lib/python3.6/dist-packages/tensorflow_core/python/ops/resource_variable_ops.py:1786: calling BaseResourceVariable.__init__ (from tensorflow.python.ops.resource_variable_ops) with constraint is deprecated and will be removed in a future version.\u001b[0m\n",
      "\u001b[34mInstructions for updating:\u001b[0m\n",
      "\u001b[34mIf using Keras pass *_constraint arguments to layers.\u001b[0m\n",
      "\n",
      "2020-05-25 17:27:51 Uploading - Uploading generated training model\n",
      "2020-05-25 17:27:51 Completed - Training job completed\n",
      "\u001b[34mINFO:tensorflow:Assets written to: /opt/ml/model/bi_lstm/1/assets\u001b[0m\n",
      "\u001b[34mINFO:tensorflow:Assets written to: /opt/ml/model/bi_lstm/1/assets\u001b[0m\n",
      "\u001b[34m[2020-05-25 17:27:39.275 ip-10-0-236-236.eu-west-1.compute.internal:24 INFO utils.py:25] The end of training job file will not be written for jobs running under SageMaker.\u001b[0m\n",
      "\u001b[34m2020-05-25 17:27:40,234 sagemaker-containers INFO     Reporting training SUCCESS\u001b[0m\n",
      "Training seconds: 135\n",
      "Billable seconds: 135\n"
     ]
    }
   ],
   "source": [
    "tf_estimator.fit({'training': input_data})"
   ]
  },
  {
   "cell_type": "code",
   "execution_count": 48,
   "metadata": {},
   "outputs": [
    {
     "name": "stdout",
     "output_type": "stream",
     "text": [
      "s3://sagemaker-eu-west-1-087816224558/tensorflow-training-2020-05-25-17-22-50-737/debug-output/\n"
     ]
    }
   ],
   "source": [
    "job_name = tf_estimator.latest_training_job.name\n",
    "client = tf_estimator.sagemaker_session.sagemaker_client\n",
    "description = client.describe_training_job(TrainingJobName=job_name)\n",
    "\n",
    "s3_output_path = description[\"DebugHookConfig\"][\"S3OutputPath\"] + job_name + '/' + 'debug-output/'\n",
    "print(s3_output_path)"
   ]
  },
  {
   "cell_type": "code",
   "execution_count": 30,
   "metadata": {},
   "outputs": [
    {
     "name": "stdout",
     "output_type": "stream",
     "text": [
      "2020-05-25 17:27:26       6465 tensorflow-training-2020-05-25-17-22-50-737/debug-output/collections/000000000/worker_0_collections.json\n",
      "2020-05-25 17:27:26        274 tensorflow-training-2020-05-25-17-22-50-737/debug-output/events/000000000000/000000000000_worker_0.tfevents\n",
      "2020-05-25 17:27:27        280 tensorflow-training-2020-05-25-17-22-50-737/debug-output/events/000000000029/000000000029_worker_0.tfevents\n",
      "2020-05-25 17:27:27        292 tensorflow-training-2020-05-25-17-22-50-737/debug-output/events/000000000032/000000000032_worker_0.tfevents\n",
      "2020-05-25 17:27:28        292 tensorflow-training-2020-05-25-17-22-50-737/debug-output/events/000000000065/000000000065_worker_0.tfevents\n",
      "2020-05-25 17:27:28        295 tensorflow-training-2020-05-25-17-22-50-737/debug-output/events/000000000098/000000000098_worker_0.tfevents\n",
      "2020-05-25 17:27:26        302 tensorflow-training-2020-05-25-17-22-50-737/debug-output/index/000000000/000000000000_worker_0.json\n",
      "2020-05-25 17:27:27        301 tensorflow-training-2020-05-25-17-22-50-737/debug-output/index/000000000/000000000029_worker_0.json\n",
      "2020-05-25 17:27:27        306 tensorflow-training-2020-05-25-17-22-50-737/debug-output/index/000000000/000000000032_worker_0.json\n",
      "2020-05-25 17:27:28        306 tensorflow-training-2020-05-25-17-22-50-737/debug-output/index/000000000/000000000065_worker_0.json\n",
      "2020-05-25 17:27:28        307 tensorflow-training-2020-05-25-17-22-50-737/debug-output/index/000000000/000000000098_worker_0.json\n",
      "2020-05-25 17:27:50          0 tensorflow-training-2020-05-25-17-22-50-737/debug-output/training_job_end.ts\n"
     ]
    }
   ],
   "source": [
    "%%sh -s \"$s3_output_path\"\n",
    "\n",
    "aws s3 ls --recursive $1"
   ]
  },
  {
   "cell_type": "markdown",
   "metadata": {},
   "source": [
    "## Deploy model"
   ]
  },
  {
   "cell_type": "code",
   "execution_count": 31,
   "metadata": {},
   "outputs": [
    {
     "name": "stdout",
     "output_type": "stream",
     "text": [
      "-----------!"
     ]
    }
   ],
   "source": [
    "tf_predictor = tf_estimator.deploy(initial_instance_count=1,\n",
    "                                   instance_type='ml.m4.xlarge')\n",
    "#                                    endpoint_type='tensorflow-serving')"
   ]
  },
  {
   "cell_type": "markdown",
   "metadata": {},
   "source": [
    "## Evaluate on test set"
   ]
  },
  {
   "cell_type": "code",
   "execution_count": 33,
   "metadata": {
    "collapsed": true,
    "jupyter": {
     "outputs_hidden": true
    }
   },
   "outputs": [
    {
     "name": "stdout",
     "output_type": "stream",
     "text": [
      "Collecting seqeval\n",
      "  Downloading https://files.pythonhosted.org/packages/34/91/068aca8d60ce56dd9ba4506850e876aba5e66a6f2f29aa223224b50df0de/seqeval-0.0.12.tar.gz\n",
      "Requirement already satisfied: numpy>=1.14.0 in /home/ec2-user/anaconda3/envs/amazonei_tensorflow_p36/lib/python3.6/site-packages (from seqeval) (1.14.6)\n",
      "Requirement already satisfied: Keras>=2.2.4 in /home/ec2-user/anaconda3/envs/amazonei_tensorflow_p36/lib/python3.6/site-packages (from seqeval) (2.3.1)\n",
      "Requirement already satisfied: h5py in /home/ec2-user/anaconda3/envs/amazonei_tensorflow_p36/lib/python3.6/site-packages (from Keras>=2.2.4->seqeval) (2.8.0)\n",
      "Requirement already satisfied: scipy>=0.14 in /home/ec2-user/anaconda3/envs/amazonei_tensorflow_p36/lib/python3.6/site-packages (from Keras>=2.2.4->seqeval) (1.1.0)\n",
      "Requirement already satisfied: six>=1.9.0 in /home/ec2-user/anaconda3/envs/amazonei_tensorflow_p36/lib/python3.6/site-packages (from Keras>=2.2.4->seqeval) (1.11.0)\n",
      "Requirement already satisfied: keras-preprocessing>=1.0.5 in /home/ec2-user/anaconda3/envs/amazonei_tensorflow_p36/lib/python3.6/site-packages (from Keras>=2.2.4->seqeval) (1.1.0)\n",
      "Requirement already satisfied: keras-applications>=1.0.6 in /home/ec2-user/anaconda3/envs/amazonei_tensorflow_p36/lib/python3.6/site-packages (from Keras>=2.2.4->seqeval) (1.0.8)\n",
      "Requirement already satisfied: pyyaml in /home/ec2-user/anaconda3/envs/amazonei_tensorflow_p36/lib/python3.6/site-packages (from Keras>=2.2.4->seqeval) (5.3.1)\n",
      "Building wheels for collected packages: seqeval\n",
      "  Running setup.py bdist_wheel for seqeval ... \u001b[?25ldone\n",
      "\u001b[?25h  Stored in directory: /home/ec2-user/.cache/pip/wheels/4f/32/0a/df3b340a82583566975377d65e724895b3fad101a3fb729f68\n",
      "Successfully built seqeval\n",
      "Installing collected packages: seqeval\n",
      "Successfully installed seqeval-0.0.12\n",
      "\u001b[33mYou are using pip version 10.0.1, however version 20.2b1 is available.\n",
      "You should consider upgrading via the 'pip install --upgrade pip' command.\u001b[0m\n"
     ]
    }
   ],
   "source": [
    "!pip install seqeval"
   ]
  },
  {
   "cell_type": "code",
   "execution_count": 35,
   "metadata": {},
   "outputs": [],
   "source": [
    "from seqeval.metrics import f1_score"
   ]
  },
  {
   "cell_type": "code",
   "execution_count": 36,
   "metadata": {},
   "outputs": [],
   "source": [
    "predictions = tf_predictor.predict(X_te)"
   ]
  },
  {
   "cell_type": "code",
   "execution_count": 44,
   "metadata": {},
   "outputs": [],
   "source": [
    "test_pred = np.array(predictions['predictions'][0])"
   ]
  },
  {
   "cell_type": "code",
   "execution_count": 45,
   "metadata": {},
   "outputs": [],
   "source": [
    "idx2tag = {i: w for w, i in tag2idx.items()}\n",
    "\n",
    "def pred2label(pred):\n",
    "    out = []\n",
    "    for pred_i in pred:\n",
    "        out_i = []\n",
    "        for p in pred_i:\n",
    "            p_i = np.argmax(p)\n",
    "            out_i.append(idx2tag[p_i].replace(\"PAD\", \"O\"))\n",
    "        out.append(out_i)\n",
    "    return out\n",
    "    \n",
    "pred_labels = pred2label(test_pred)\n",
    "test_labels = pred2label(y_te)"
   ]
  },
  {
   "cell_type": "code",
   "execution_count": 47,
   "metadata": {},
   "outputs": [
    {
     "name": "stdout",
     "output_type": "stream",
     "text": [
      "Test F1-Score: 0.00693953874922086\n"
     ]
    }
   ],
   "source": [
    "test_f1 = f1_score(pred_labels, test_labels)\n",
    "print(f\"Test F1-Score: {test_f1}\")"
   ]
  },
  {
   "cell_type": "markdown",
   "metadata": {},
   "source": [
    "## Delete endpoint"
   ]
  },
  {
   "cell_type": "code",
   "execution_count": 50,
   "metadata": {},
   "outputs": [],
   "source": [
    "tf_predictor.delete_endpoint()"
   ]
  },
  {
   "cell_type": "markdown",
   "metadata": {},
   "source": [
    "## Empty Bucket"
   ]
  },
  {
   "cell_type": "code",
   "execution_count": 52,
   "metadata": {},
   "outputs": [
    {
     "data": {
      "text/plain": [
       "[{'ResponseMetadata': {'RequestId': '296A44D39494426D',\n",
       "   'HostId': 'r+P9//ZtlQKSobW9RYylTLoFuO58h2z9CB1a5sjgU11MUSiwsgk+o1LvxlEB4VWyztX7I9u8vj4=',\n",
       "   'HTTPStatusCode': 200,\n",
       "   'HTTPHeaders': {'x-amz-id-2': 'r+P9//ZtlQKSobW9RYylTLoFuO58h2z9CB1a5sjgU11MUSiwsgk+o1LvxlEB4VWyztX7I9u8vj4=',\n",
       "    'x-amz-request-id': '296A44D39494426D',\n",
       "    'date': 'Mon, 25 May 2020 17:58:58 GMT',\n",
       "    'connection': 'close',\n",
       "    'content-type': 'application/xml',\n",
       "    'transfer-encoding': 'chunked',\n",
       "    'server': 'AmazonS3'},\n",
       "   'RetryAttempts': 0},\n",
       "  'Deleted': [{'Key': 'tensorflow-training-2020-05-25-17-16-19-751/debug-output/collections/000000000/worker_0_collections.json'},\n",
       "   {'Key': 'tensorflow-training-2020-05-25-17-16-19-751/debug-output/index/000000000/000000000032_worker_0.json'},\n",
       "   {'Key': 'tensorflow-training-2020-05-25-17-20-35-168/source/sourcedir.tar.gz'},\n",
       "   {'Key': 'tensorflow-training-2020-05-25-17-22-50-737/debug-output/collections/000000000/worker_0_collections.json'},\n",
       "   {'Key': 'tensorflow-training-2020-05-25-16-58-41-470/debug-output/index/000000000/000000000029_worker_0.json'},\n",
       "   {'Key': 'tensorflow-training-2020-05-25-17-16-19-751/debug-output/index/000000000/000000000029_worker_0.json'},\n",
       "   {'Key': 'tensorflow-training-2020-05-25-17-22-50-737/debug-output/events/000000000098/000000000098_worker_0.tfevents'},\n",
       "   {'Key': 'tensorflow-training-2020-05-25-16-58-41-470/debug-output/index/000000000/000000000032_worker_0.json'},\n",
       "   {'Key': 'tensorflow-training-2020-05-25-17-16-19-751/debug-output/events/000000000032/000000000032_worker_0.tfevents'},\n",
       "   {'Key': 'tensorflow-training-2020-05-25-17-22-50-737/debug-output/index/000000000/000000000065_worker_0.json'},\n",
       "   {'Key': 'tensorflow-training-2020-05-25-17-22-50-737/debug-output/index/000000000/000000000000_worker_0.json'},\n",
       "   {'Key': 'tensorflow-training-2020-05-25-17-16-19-751/debug-output/index/000000000/000000000098_worker_0.json'},\n",
       "   {'Key': 'tensorflow-training-2020-05-25-17-21-00-031/source/sourcedir.tar.gz'},\n",
       "   {'Key': 'tensorflow-training-2020-05-25-17-16-19-751/debug-output/index/000000000/000000000000_worker_0.json'},\n",
       "   {'Key': 'tensorflow-training-2020-05-25-17-22-50-737/debug-output/events/000000000032/000000000032_worker_0.tfevents'},\n",
       "   {'Key': 'tensorflow-training-2020-05-25-16-58-41-470/debug-output/events/000000000065/000000000065_worker_0.tfevents'},\n",
       "   {'Key': 'named_entity_recognition/data/ner_dataset.csv'},\n",
       "   {'Key': 'tensorflow-training-2020-05-25-16-58-41-470/debug-output/index/000000000/000000000098_worker_0.json'},\n",
       "   {'Key': 'tensorflow-training-2020-05-25-17-16-19-751/debug-output/events/000000000029/000000000029_worker_0.tfevents'},\n",
       "   {'Key': 'tensorflow-training-2020-05-25-17-22-50-737/output/model.tar.gz'},\n",
       "   {'Key': 'tensorflow-training-2020-05-25-17-16-19-751/debug-output/events/000000000000/000000000000_worker_0.tfevents'},\n",
       "   {'Key': 'tensorflow-training-2020-05-25-16-58-41-470/debug-output/events/000000000029/000000000029_worker_0.tfevents'},\n",
       "   {'Key': 'tensorflow-training-2020-05-25-16-58-41-470/debug-output/events/000000000098/000000000098_worker_0.tfevents'},\n",
       "   {'Key': 'tensorflow-training-2020-05-25-17-16-19-751/debug-output/index/000000000/000000000065_worker_0.json'},\n",
       "   {'Key': 'tensorflow-training-2020-05-25-16-58-41-470/debug-output/index/000000000/000000000065_worker_0.json'},\n",
       "   {'Key': 'tensorflow-training-2020-05-25-17-22-50-737/debug-output/index/000000000/000000000032_worker_0.json'},\n",
       "   {'Key': 'tensorflow-training-2020-05-25-16-58-41-470/debug-output/index/000000000/000000000000_worker_0.json'},\n",
       "   {'Key': 'tensorflow-training-2020-05-25-17-22-50-737/debug-output/events/000000000065/000000000065_worker_0.tfevents'},\n",
       "   {'Key': 'tensorflow-training-2020-05-25-17-16-19-751/source/sourcedir.tar.gz'},\n",
       "   {'Key': 'tensorflow-training-2020-05-25-16-48-41-061/source/sourcedir.tar.gz'},\n",
       "   {'Key': 'tensorflow-training-2020-05-25-17-22-50-737/debug-output/index/000000000/000000000029_worker_0.json'},\n",
       "   {'Key': 'tensorflow-training-2020-05-25-17-22-50-737/debug-output/events/000000000029/000000000029_worker_0.tfevents'},\n",
       "   {'Key': 'tensorflow-training-2020-05-25-17-22-50-737/debug-output/training_job_end.ts'},\n",
       "   {'Key': 'tensorflow-training-2020-05-25-16-58-41-470/debug-output/events/000000000032/000000000032_worker_0.tfevents'},\n",
       "   {'Key': 'tensorflow-training-2020-05-25-16-58-41-470/source/sourcedir.tar.gz'},\n",
       "   {'Key': 'tensorflow-training-2020-05-25-17-16-19-751/debug-output/events/000000000065/000000000065_worker_0.tfevents'},\n",
       "   {'Key': 'tensorflow-training-2020-05-25-17-22-50-737/debug-output/index/000000000/000000000098_worker_0.json'},\n",
       "   {'Key': 'tensorflow-training-2020-05-25-17-22-50-737/source/sourcedir.tar.gz'},\n",
       "   {'Key': 'tensorflow-training-2020-05-25-17-11-00-531/source/sourcedir.tar.gz'},\n",
       "   {'Key': 'tensorflow-training-2020-05-25-17-22-50-737/debug-output/events/000000000000/000000000000_worker_0.tfevents'},\n",
       "   {'Key': 'tensorflow-training-2020-05-25-17-16-19-751/debug-output/events/000000000098/000000000098_worker_0.tfevents'},\n",
       "   {'Key': 'tensorflow-training-2020-05-25-16-58-41-470/debug-output/events/000000000000/000000000000_worker_0.tfevents'},\n",
       "   {'Key': 'tensorflow-training-2020-05-25-16-58-41-470/debug-output/collections/000000000/worker_0_collections.json'},\n",
       "   {'Key': 'named_entity_recognition/data/train.csv'}]}]"
      ]
     },
     "execution_count": 52,
     "metadata": {},
     "output_type": "execute_result"
    }
   ],
   "source": [
    "import boto3\n",
    "bucket_to_delete = boto3.resource('s3').Bucket(bucket)\n",
    "bucket_to_delete.objects.all().delete()"
   ]
  }
 ],
 "metadata": {
  "kernelspec": {
   "display_name": "conda_amazonei_tensorflow_p36",
   "language": "python",
   "name": "conda_amazonei_tensorflow_p36"
  },
  "language_info": {
   "codemirror_mode": {
    "name": "ipython",
    "version": 3
   },
   "file_extension": ".py",
   "mimetype": "text/x-python",
   "name": "python",
   "nbconvert_exporter": "python",
   "pygments_lexer": "ipython3",
   "version": "3.6.6"
  }
 },
 "nbformat": 4,
 "nbformat_minor": 4
}
